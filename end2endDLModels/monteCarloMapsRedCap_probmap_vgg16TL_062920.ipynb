{
  "nbformat": 4,
  "nbformat_minor": 0,
  "metadata": {
    "colab": {
      "name": "monteCarloMapsRedCap_probmap_vgg16TL.ipynb",
      "provenance": [],
      "collapsed_sections": []
    },
    "kernelspec": {
      "name": "python3",
      "display_name": "Python 3"
    },
    "accelerator": "GPU"
  },
  "cells": [
    {
      "cell_type": "markdown",
      "metadata": {
        "id": "wiahzM1EfnfQ",
        "colab_type": "text"
      },
      "source": [
        "# Mounting Google Drive"
      ]
    },
    {
      "cell_type": "code",
      "metadata": {
        "id": "Ci2gPZb6ZIEw",
        "colab_type": "code",
        "colab": {
          "base_uri": "https://localhost:8080/",
          "height": 124
        },
        "outputId": "0dbca12f-927e-4ba6-d502-4e5de53c5f77"
      },
      "source": [
        "##### Import data via Google Drive Mount\n",
        "# from google.colab import drive\n",
        "# import os\n",
        "# import sys\n",
        "# drive.mount(\"/content/drive\")\n",
        "# os.chdir(\"/content/drive\")\n",
        "\n",
        "# base_drive = 'Shared drives/TCAV4OCT/'\n",
        "# os.chdir(base_drive)\n",
        "#from google.colab import drive\n",
        "#drive.mount('/gdrive', force_remount=True)\n",
        "\n",
        "##### Importing data via Google Drive mount\n",
        "from google.colab import drive\n",
        "drive.mount('/gdrive', force_remount=True)"
      ],
      "execution_count": null,
      "outputs": [
        {
          "output_type": "stream",
          "text": [
            "Go to this URL in a browser: https://accounts.google.com/o/oauth2/auth?client_id=947318989803-6bn6qk8qdgf4n4g3pfee6491hc0brc4i.apps.googleusercontent.com&redirect_uri=urn%3aietf%3awg%3aoauth%3a2.0%3aoob&response_type=code&scope=email%20https%3a%2f%2fwww.googleapis.com%2fauth%2fdocs.test%20https%3a%2f%2fwww.googleapis.com%2fauth%2fdrive%20https%3a%2f%2fwww.googleapis.com%2fauth%2fdrive.photos.readonly%20https%3a%2f%2fwww.googleapis.com%2fauth%2fpeopleapi.readonly\n",
            "\n",
            "Enter your authorization code:\n",
            "··········\n",
            "Mounted at /gdrive\n"
          ],
          "name": "stdout"
        }
      ]
    },
    {
      "cell_type": "markdown",
      "metadata": {
        "id": "Z3N68kUFfu1I",
        "colab_type": "text"
      },
      "source": [
        "# Loading Train, Val, and Test Data Using Keras ImageDataGenerator"
      ]
    },
    {
      "cell_type": "code",
      "metadata": {
        "id": "oeCnbRQ-ZVQO",
        "colab_type": "code",
        "colab": {
          "base_uri": "https://localhost:8080/",
          "height": 87
        },
        "outputId": "2600ca0c-c281-47ed-9968-e5fb6b4ff6bc"
      },
      "source": [
        "# Directory Paths\n",
        "train_data_dir = \"/gdrive/My Drive/newCircleData/TrainValTest/\"\n",
        "#val_dir = \"/gdrive/My Drive/newCircleData/Val/\"\n",
        "test_data_dir = \"/gdrive/My Drive/mapsRedCap_DCH/fullReports/\"\n",
        "\n",
        "#Image dims and training details\n",
        "img_width = 448\n",
        "img_height = 448\n",
        "batch_size = 1\n",
        "channels = 3\n",
        "epochs = 50\n",
        "# nb_train_samples = 395 590\n",
        "# nb_valid_samples = 145 147\n",
        "nb_test_samples = 135\n",
        "\n",
        "#Keras ImageDataGenerator for loading train, val, and test data\n",
        "from keras.preprocessing.image import ImageDataGenerator\n",
        "\n",
        "#train_datagen = ImageDataGenerator(rescale=1./255)             \n",
        "#valid_datagen = ImageDataGenerator(rescale=1./255)    \n",
        "test_datagen = ImageDataGenerator(rescale=1./255) \n",
        "\n",
        "train_datagen = ImageDataGenerator(rescale=1./255,\n",
        "    #shear_range=0.2,\n",
        "    zoom_range=0.2,\n",
        "    horizontal_flip=True,\n",
        "    vertical_flip=True,\n",
        "    validation_split=0.2) # set validation split\n",
        "\n",
        "train_generator = train_datagen.flow_from_directory(\n",
        "    train_data_dir,\n",
        "    target_size=(img_height, img_width),\n",
        "    color_mode=\"rgb\",\n",
        "    batch_size=batch_size,\n",
        "    class_mode='binary',\n",
        "    shuffle=True,\n",
        "    #save_to_dir='/gdrive/My Drive/augmentedInceptionTrain/',\n",
        "    subset='training') # set as training data\n",
        "\n",
        "validation_generator = train_datagen.flow_from_directory(\n",
        "    train_data_dir, # same directory as training data\n",
        "    target_size=(img_height, img_width),\n",
        "    color_mode=\"rgb\",\n",
        "    batch_size=batch_size,\n",
        "    class_mode='binary',\n",
        "    shuffle=True,\n",
        "    #save_to_dir='/gdrive/My Drive/augmentedInceptionVal/',\n",
        "    subset='validation') # set as validation data\n",
        "\n",
        "# train_generator = train_datagen.flow_from_directory(\n",
        "#     train_dir, \n",
        "#     target_size=(img_height, img_width),\n",
        "#     color_mode=\"rgb\",\n",
        "#     batch_size=batch_size,\n",
        "#     class_mode='binary',\n",
        "#     shuffle=True)   \n",
        "\n",
        "# valid_generator = valid_datagen.flow_from_directory(\n",
        "#     val_dir,\n",
        "#     target_size=(img_height, img_width),\n",
        "#     color_mode=\"rgb\",\n",
        "#     batch_size=batch_size,\n",
        "#     class_mode='binary',\n",
        "#     shuffle=True) #weight toward one class or another\n",
        "\n",
        "test_generator = test_datagen.flow_from_directory(\n",
        "    test_data_dir,\n",
        "    target_size=(img_height, img_width),\n",
        "    color_mode=\"rgb\",\n",
        "    batch_size=batch_size,\n",
        "    class_mode='binary',\n",
        "    shuffle=False)\n",
        "\n",
        "label_map = train_generator.class_indices\n",
        "print(label_map)"
      ],
      "execution_count": null,
      "outputs": [
        {
          "output_type": "stream",
          "text": [
            "Found 590 images belonging to 2 classes.\n",
            "Found 147 images belonging to 2 classes.\n",
            "Found 135 images belonging to 2 classes.\n",
            "{'G': 0, 'S': 1}\n"
          ],
          "name": "stdout"
        }
      ]
    },
    {
      "cell_type": "markdown",
      "metadata": {
        "id": "8DSNcgHwfzN2",
        "colab_type": "text"
      },
      "source": [
        "# Building the Model Architecture (Pre-trained ResNet-18 Extracting Features from OCT Dataset) & Training the Model"
      ]
    },
    {
      "cell_type": "code",
      "metadata": {
        "id": "C6ZKHUJ1oots",
        "colab_type": "code",
        "colab": {
          "base_uri": "https://localhost:8080/",
          "height": 870
        },
        "outputId": "22f17228-bfc1-452f-fc2a-019e81cde80d"
      },
      "source": [
        "#Loading Pretrained ResNet Model and Extracting Features\n",
        "import numpy as np \n",
        "from keras.preprocessing import text, sequence\n",
        "from keras.preprocessing.text import Tokenizer\n",
        "from keras.utils import to_categorical\n",
        "from keras.models import Model, Input\n",
        "from keras.layers import Conv2D, MaxPooling2D\n",
        "from keras.layers import Activation, Dropout, Softmax, Flatten, Dense, BatchNormalization \n",
        "from keras.metrics import categorical_accuracy\n",
        "from keras import backend as K\n",
        "from keras import regularizers\n",
        "import tensorflow as tf\n",
        "from keras.models import Sequential\n",
        "\n",
        "from keras import layers\n",
        "\n",
        "from keras.callbacks import TensorBoard\n",
        "\n",
        "#from keras.layers import Input, Dense\n",
        "from keras import layers\n",
        "from keras import optimizers\n",
        "from keras.applications import VGG16\n",
        "\n",
        "#pretrained VGG16 on imagenet, starting to replicate Hassan's work\n",
        "conv_base = VGG16(weights='imagenet',\n",
        "                  include_top=False,\n",
        "                  input_shape=(img_height, img_width, channels))\n",
        "\n",
        "conv_base.summary()"
      ],
      "execution_count": null,
      "outputs": [
        {
          "output_type": "stream",
          "text": [
            "Downloading data from https://github.com/fchollet/deep-learning-models/releases/download/v0.1/vgg16_weights_tf_dim_ordering_tf_kernels_notop.h5\n",
            "58892288/58889256 [==============================] - 6s 0us/step\n",
            "Model: \"vgg16\"\n",
            "_________________________________________________________________\n",
            "Layer (type)                 Output Shape              Param #   \n",
            "=================================================================\n",
            "input_1 (InputLayer)         (None, 448, 448, 3)       0         \n",
            "_________________________________________________________________\n",
            "block1_conv1 (Conv2D)        (None, 448, 448, 64)      1792      \n",
            "_________________________________________________________________\n",
            "block1_conv2 (Conv2D)        (None, 448, 448, 64)      36928     \n",
            "_________________________________________________________________\n",
            "block1_pool (MaxPooling2D)   (None, 224, 224, 64)      0         \n",
            "_________________________________________________________________\n",
            "block2_conv1 (Conv2D)        (None, 224, 224, 128)     73856     \n",
            "_________________________________________________________________\n",
            "block2_conv2 (Conv2D)        (None, 224, 224, 128)     147584    \n",
            "_________________________________________________________________\n",
            "block2_pool (MaxPooling2D)   (None, 112, 112, 128)     0         \n",
            "_________________________________________________________________\n",
            "block3_conv1 (Conv2D)        (None, 112, 112, 256)     295168    \n",
            "_________________________________________________________________\n",
            "block3_conv2 (Conv2D)        (None, 112, 112, 256)     590080    \n",
            "_________________________________________________________________\n",
            "block3_conv3 (Conv2D)        (None, 112, 112, 256)     590080    \n",
            "_________________________________________________________________\n",
            "block3_pool (MaxPooling2D)   (None, 56, 56, 256)       0         \n",
            "_________________________________________________________________\n",
            "block4_conv1 (Conv2D)        (None, 56, 56, 512)       1180160   \n",
            "_________________________________________________________________\n",
            "block4_conv2 (Conv2D)        (None, 56, 56, 512)       2359808   \n",
            "_________________________________________________________________\n",
            "block4_conv3 (Conv2D)        (None, 56, 56, 512)       2359808   \n",
            "_________________________________________________________________\n",
            "block4_pool (MaxPooling2D)   (None, 28, 28, 512)       0         \n",
            "_________________________________________________________________\n",
            "block5_conv1 (Conv2D)        (None, 28, 28, 512)       2359808   \n",
            "_________________________________________________________________\n",
            "block5_conv2 (Conv2D)        (None, 28, 28, 512)       2359808   \n",
            "_________________________________________________________________\n",
            "block5_conv3 (Conv2D)        (None, 28, 28, 512)       2359808   \n",
            "_________________________________________________________________\n",
            "block5_pool (MaxPooling2D)   (None, 14, 14, 512)       0         \n",
            "=================================================================\n",
            "Total params: 14,714,688\n",
            "Trainable params: 14,714,688\n",
            "Non-trainable params: 0\n",
            "_________________________________________________________________\n"
          ],
          "name": "stdout"
        }
      ]
    },
    {
      "cell_type": "code",
      "metadata": {
        "id": "LvuHzxtIu5Fp",
        "colab_type": "code",
        "colab": {}
      },
      "source": [
        "# conv_base.trainable = True\n",
        "\n",
        "# set_trainable = False\n",
        "# for layer in conv_base.layers:\n",
        "#     # if layer.name == 'stage4_unit2_conv1':\n",
        "#     #     set_trainable = True\n",
        "#     # if layer.name == 'stage4_unit2_bn2':\n",
        "#     #     set_trainable = True\n",
        "#     # if layer.name == 'stage4_unit2_relu2':\n",
        "#     #     set_trainable = True\n",
        "#     # if layer.name == 'zero_padding2d_18':\n",
        "#     #    set_trainable = True\n",
        "#     if layer.name == 'stage4_unit2_conv2':\n",
        "#         set_trainable = True\n",
        "#     if layer.name == 'add_8':\n",
        "#         set_trainable = True\n",
        "#     if set_trainable:\n",
        "#         layer.trainable = True\n",
        "#     else:\n",
        "#         layer.trainable = False"
      ],
      "execution_count": null,
      "outputs": []
    },
    {
      "cell_type": "code",
      "metadata": {
        "id": "qNcCmVhb0D7v",
        "colab_type": "code",
        "colab": {
          "base_uri": "https://localhost:8080/",
          "height": 1000
        },
        "outputId": "3438aeb9-2ed2-475c-88c3-f1ca125bedc3"
      },
      "source": [
        "from keras import models\n",
        "from keras import layers\n",
        "\n",
        "model = models.Sequential()\n",
        "model.add(conv_base)\n",
        "\n",
        "model.add(layers.Flatten())\n",
        "model.add(layers.Dense(1024, activation='relu'))\n",
        "model.add(layers.Dropout(0.5))\n",
        "model.add(layers.Dense(512, activation='relu'))\n",
        "#model.add(layers.Dropout(0.5))\n",
        "model.add(layers.Dense(1, activation='sigmoid'))\n",
        "\n",
        "model.summary()\n",
        "\n",
        "model.compile(loss='binary_crossentropy',\n",
        "              optimizer=optimizers.Adam(lr=2e-6),\n",
        "              metrics=['acc'])\n",
        "\n",
        "history = model.fit_generator(\n",
        "      train_generator,\n",
        "      steps_per_epoch=100,\n",
        "      epochs=30,\n",
        "      validation_data=validation_generator,\n",
        "      validation_steps=50,\n",
        "      verbose=2)"
      ],
      "execution_count": null,
      "outputs": [
        {
          "output_type": "stream",
          "text": [
            "Model: \"sequential_2\"\n",
            "_________________________________________________________________\n",
            "Layer (type)                 Output Shape              Param #   \n",
            "=================================================================\n",
            "vgg16 (Model)                (None, 14, 14, 512)       14714688  \n",
            "_________________________________________________________________\n",
            "flatten_1 (Flatten)          (None, 100352)            0         \n",
            "_________________________________________________________________\n",
            "dense_1 (Dense)              (None, 1024)              102761472 \n",
            "_________________________________________________________________\n",
            "dropout_1 (Dropout)          (None, 1024)              0         \n",
            "_________________________________________________________________\n",
            "dense_2 (Dense)              (None, 512)               524800    \n",
            "_________________________________________________________________\n",
            "dense_3 (Dense)              (None, 1)                 513       \n",
            "=================================================================\n",
            "Total params: 118,001,473\n",
            "Trainable params: 118,001,473\n",
            "Non-trainable params: 0\n",
            "_________________________________________________________________\n",
            "Epoch 1/30\n",
            " - 167s - loss: 0.5645 - acc: 0.7100 - val_loss: 0.4623 - val_acc: 0.8800\n",
            "Epoch 2/30\n",
            " - 129s - loss: 0.3580 - acc: 0.8500 - val_loss: 0.1069 - val_acc: 0.9000\n",
            "Epoch 3/30\n",
            " - 101s - loss: 0.2904 - acc: 0.8900 - val_loss: 0.1208 - val_acc: 0.8400\n",
            "Epoch 4/30\n",
            " - 79s - loss: 0.1774 - acc: 0.9200 - val_loss: 0.4291 - val_acc: 0.9000\n",
            "Epoch 5/30\n",
            " - 83s - loss: 0.2199 - acc: 0.9300 - val_loss: 0.0103 - val_acc: 0.9200\n",
            "Epoch 6/30\n",
            " - 74s - loss: 0.1442 - acc: 0.9600 - val_loss: 0.0129 - val_acc: 0.9400\n",
            "Epoch 7/30\n",
            " - 17s - loss: 0.2008 - acc: 0.9300 - val_loss: 0.0027 - val_acc: 0.9400\n",
            "Epoch 8/30\n",
            " - 17s - loss: 0.1660 - acc: 0.9400 - val_loss: 0.0121 - val_acc: 0.8000\n",
            "Epoch 9/30\n",
            " - 17s - loss: 0.1122 - acc: 0.9600 - val_loss: 0.0013 - val_acc: 0.9200\n",
            "Epoch 10/30\n",
            " - 17s - loss: 0.2766 - acc: 0.8900 - val_loss: 0.0039 - val_acc: 0.9400\n",
            "Epoch 11/30\n",
            " - 17s - loss: 0.1526 - acc: 0.9500 - val_loss: 0.0295 - val_acc: 0.8400\n",
            "Epoch 12/30\n",
            " - 17s - loss: 0.2002 - acc: 0.9300 - val_loss: 0.0554 - val_acc: 0.9200\n",
            "Epoch 13/30\n",
            " - 17s - loss: 0.1149 - acc: 0.9500 - val_loss: 0.0025 - val_acc: 0.9400\n",
            "Epoch 14/30\n",
            " - 17s - loss: 0.1362 - acc: 0.9600 - val_loss: 0.0017 - val_acc: 0.8600\n",
            "Epoch 15/30\n",
            " - 17s - loss: 0.0876 - acc: 0.9500 - val_loss: 0.0032 - val_acc: 0.9000\n",
            "Epoch 16/30\n",
            " - 17s - loss: 0.1372 - acc: 0.9500 - val_loss: 0.1859 - val_acc: 0.9400\n",
            "Epoch 17/30\n",
            " - 17s - loss: 0.1469 - acc: 0.9500 - val_loss: 3.3288 - val_acc: 0.8800\n",
            "Epoch 18/30\n",
            " - 17s - loss: 0.2302 - acc: 0.9200 - val_loss: 0.1531 - val_acc: 0.9400\n",
            "Epoch 19/30\n",
            " - 17s - loss: 0.1565 - acc: 0.9600 - val_loss: 0.0026 - val_acc: 0.9200\n",
            "Epoch 20/30\n",
            " - 17s - loss: 0.1415 - acc: 0.9400 - val_loss: 0.0028 - val_acc: 0.9000\n",
            "Epoch 21/30\n",
            " - 17s - loss: 0.1055 - acc: 0.9600 - val_loss: 0.0047 - val_acc: 0.9400\n",
            "Epoch 22/30\n",
            " - 17s - loss: 0.0944 - acc: 0.9600 - val_loss: 7.8613 - val_acc: 0.9200\n",
            "Epoch 23/30\n",
            " - 17s - loss: 0.0878 - acc: 0.9700 - val_loss: 0.2239 - val_acc: 0.9200\n",
            "Epoch 24/30\n",
            " - 17s - loss: 0.0881 - acc: 0.9700 - val_loss: 0.0015 - val_acc: 0.9000\n",
            "Epoch 25/30\n",
            " - 17s - loss: 0.0761 - acc: 0.9800 - val_loss: 0.1944 - val_acc: 0.9200\n",
            "Epoch 26/30\n",
            " - 17s - loss: 0.0866 - acc: 0.9600 - val_loss: 1.5212e-07 - val_acc: 0.9200\n",
            "Epoch 27/30\n",
            " - 17s - loss: 0.1239 - acc: 0.9500 - val_loss: 0.0024 - val_acc: 0.9200\n",
            "Epoch 28/30\n",
            " - 17s - loss: 0.1030 - acc: 0.9700 - val_loss: 7.1702 - val_acc: 0.9600\n",
            "Epoch 29/30\n",
            " - 17s - loss: 0.1461 - acc: 0.9400 - val_loss: 0.0063 - val_acc: 0.8600\n",
            "Epoch 30/30\n",
            " - 17s - loss: 0.0912 - acc: 0.9900 - val_loss: 7.0113e-04 - val_acc: 0.9400\n"
          ],
          "name": "stdout"
        }
      ]
    },
    {
      "cell_type": "code",
      "metadata": {
        "id": "JZtPWUwK3FG3",
        "colab_type": "code",
        "colab": {
          "base_uri": "https://localhost:8080/",
          "height": 546
        },
        "outputId": "d698d637-b337-4460-9be3-cc389fefe3e6"
      },
      "source": [
        "import matplotlib.pyplot as plt\n",
        "\n",
        "acc = history.history['acc']\n",
        "val_acc = history.history['val_acc']\n",
        "loss = history.history['loss']\n",
        "val_loss = history.history['val_loss']\n",
        "\n",
        "epochs = range(len(acc))\n",
        "\n",
        "plt.plot(epochs, acc, 'bo', label='Training acc')\n",
        "plt.plot(epochs, val_acc, 'b', label='Validation acc')\n",
        "plt.title('Training and validation accuracy')\n",
        "plt.legend()\n",
        "\n",
        "plt.figure()\n",
        "\n",
        "plt.plot(epochs, loss, 'bo', label='Training loss')\n",
        "plt.plot(epochs, val_loss, 'b', label='Validation loss')\n",
        "plt.title('Training and validation loss')\n",
        "plt.legend()\n",
        "\n",
        "plt.show()"
      ],
      "execution_count": null,
      "outputs": [
        {
          "output_type": "display_data",
          "data": {
            "image/png": "[encoded data removed]",
            "text/plain": [
              "<Figure size 432x288 with 1 Axes>"
            ]
          },
          "metadata": {
            "tags": [],
            "needs_background": "light"
          }
        },
        {
          "output_type": "display_data",
          "data": {
            "image/png": "[encoded data removed]",
            "text/plain": [
              "<Figure size 432x288 with 1 Axes>"
            ]
          },
          "metadata": {
            "tags": [],
            "needs_background": "light"
          }
        }
      ]
    },
    {
      "cell_type": "code",
      "metadata": {
        "id": "wlh7XcFF4Sxj",
        "colab_type": "code",
        "colab": {
          "base_uri": "https://localhost:8080/",
          "height": 72
        },
        "outputId": "9f3af313-8872-4d13-c60b-0c8d044b6f44"
      },
      "source": [
        "\n",
        "filenames = test_generator.filenames\n",
        "print(filenames)\n",
        "nb_samples = len(filenames)\n",
        "\n",
        "\n",
        "percentCorrect = model.evaluate_generator(test_generator, steps = np.ceil(nb_samples / batch_size))\n",
        "print(percentCorrect)"
      ],
      "execution_count": null,
      "outputs": [
        {
          "output_type": "stream",
          "text": [
            "['G_fullReports/COL002OD2015-11-13widefieldProbRNFL.png', 'G_fullReports/COL004OD2016-11-07widefieldProbRNFL.png', 'G_fullReports/COL008OD2015-11-16widefieldProbRNFL.png', 'G_fullReports/COL009OS2016-03-08widefieldProbRNFL.png', 'G_fullReports/COL011OD2015-12-01widefieldProbRNFL.png', 'G_fullReports/COL013OD2015-11-19widefieldProbRNFL.png', 'G_fullReports/COL015OD2015-11-05widefieldProbRNFL.png', 'G_fullReports/COL016OS2015-11-05widefieldProbRNFL.png', 'G_fullReports/COL017OS2015-11-06widefieldProbRNFL.png', 'G_fullReports/COL018OS2015-11-16widefieldProbRNFL.png', 'G_fullReports/COL020OS2015-11-24widefieldProbRNFL.png', 'G_fullReports/COL024OS2015-12-04widefieldProbRNFL.png', 'G_fullReports/COL025OD2015-12-10widefieldProbRNFL.png', 'G_fullReports/COL037OD2016-01-11widefieldProbRNFL.png', 'G_fullReports/COL051OD2016-03-10widefieldProbRNFL.png', 'G_fullReports/COL057OD2016-03-22widefieldProbRNFL.png', 'G_fullReports/COL067OS2016-05-02widefieldProbRNFL.png', 'G_fullReports/COL081OD2016-05-17widefieldProbRNFL.png', 'G_fullReports/COL083OD2016-05-18widefieldProbRNFL.png', 'G_fullReports/COL084OD2016-05-19widefieldProbRNFL.png', 'G_fullReports/COL088OD2016-05-20widefieldProbRNFL.png', 'G_fullReports/COL092OS2016-05-23widefieldProbRNFL.png', 'G_fullReports/COL093OD2016-05-23widefieldProbRNFL.png', 'G_fullReports/COL097OS2016-06-08widefieldProbRNFL.png', 'G_fullReports/COL099COL099OD2017-07-19widefieldProbRNFL.png', 'G_fullReports/COL105COL105OD2016-06-14widefieldProbRNFL.png', 'G_fullReports/COL106COL106OD2016-08-03widefieldProbRNFL.png', 'G_fullReports/COL113COL113OS2016-08-08widefieldProbRNFL.png', 'G_fullReports/COL114COL114OD2016-08-11widefieldProbRNFL.png', 'G_fullReports/COL115COL115OS2016-08-15widefieldProbRNFL.png', 'G_fullReports/COL117COL117OS2016-08-18widefieldProbRNFL.png', 'G_fullReports/COL120COL12039230OD2016-09-15wideProbRNFL.png', 'G_fullReports/COL122COL12239225OS2016-09-14wideProbRNFL.png', 'G_fullReports/COL128COL128OD2017-01-06widefieldProbRNFL.png', 'G_fullReports/COL137COL137OS2016-12-07widefieldProbRNFL.png', 'G_fullReports/COL143COL143OS2017-01-11widefieldProbRNFL.png', 'G_fullReports/COL149COL149OS2016-12-09widefieldProbRNFL.png', 'G_fullReports/COL157COL157OD2017-08-09widefieldProbRNFL.png', 'G_fullReports/COL158COL158OS2017-02-22widefieldProbRNFL.png', 'G_fullReports/COL163COL163OS2017-02-06widefieldProbRNFL.png', 'G_fullReports/COL165COL16540371OD2017-02-13wideProbRNFL.png', 'G_fullReports/COL169COL16940377OD2017-02-21wideProbRNFL.png', 'G_fullReports/COL175COL17540404OD2017-03-20wideProbRNFL.png', 'G_fullReports/COL176COL176OS2017-09-29widefieldProbRNFL.png', 'G_fullReports/COL179COL179OS2017-05-30widefieldProbRNFL.png', 'G_fullReports/COL180COL180OS2017-08-18widefieldProbRNFL.png', 'G_fullReports/COL181COL181OD2017-03-03widefieldProbRNFL.png', 'G_fullReports/COL190COL190OS2017-07-31widefieldProbRNFL.png', 'G_fullReports/COL194COL194OS2017-07-25widefieldProbRNFL.png', 'G_fullReports/COL203COL203OS2017-05-09widefieldProbRNFL.png', 'G_fullReports/COL208COL208OS2017-06-23widefieldProbRNFL.png', 'G_fullReports/COL209COL209OD2017-06-13widefieldProbRNFL.png', 'G_fullReports/COL214COL214OS2017-10-12widefieldProbRNFL.png', 'G_fullReports/COL229COL229OD2017-10-11widefieldProbRNFL.png', 'S_fullReports/COL003OD2015-11-11widefieldProbRNFL.png', 'S_fullReports/COL006OS2015-11-24widefieldProbRNFL.png', 'S_fullReports/COL007OD2015-11-19widefieldProbRNFL.png', 'S_fullReports/COL010OD2015-11-23widefieldProbRNFL.png', 'S_fullReports/COL014OS2015-12-01widefieldProbRNFL.png', 'S_fullReports/COL021OD2015-11-30widefieldProbRNFL.png', 'S_fullReports/COL022OD2015-11-30widefieldProbRNFL.png', 'S_fullReports/COL028OS2015-12-15widefieldProbRNFL.png', 'S_fullReports/COL029OD2016-01-05widefieldProbRNFL.png', 'S_fullReports/COL033OS2016-01-20widefieldProbRNFL.png', 'S_fullReports/COL036OS2016-01-28widefieldProbRNFL.png', 'S_fullReports/COL040OD2016-01-21widefieldProbRNFL.png', 'S_fullReports/COL041OD2016-02-04widefieldProbRNFL.png', 'S_fullReports/COL042OS2016-02-11widefieldProbRNFL.png', 'S_fullReports/COL044OD2016-03-04widefieldProbRNFL.png', 'S_fullReports/COL045OS2016-02-08widefieldProbRNFL.png', 'S_fullReports/COL046OS2016-02-09widefieldProbRNFL.png', 'S_fullReports/COL047OD2016-02-09widefieldProbRNFL.png', 'S_fullReports/COL048OD2016-02-10widefieldProbRNFL.png', 'S_fullReports/COL049OS2016-02-11widefieldProbRNFL.png', 'S_fullReports/COL054OS2016-03-03widefieldProbRNFL.png', 'S_fullReports/COL055OS2016-03-03widefieldProbRNFL.png', 'S_fullReports/COL058OS2016-03-10widefieldProbRNFL.png', 'S_fullReports/COL059OS2016-03-11widefieldProbRNFL.png', 'S_fullReports/COL060OD2016-03-17widefieldProbRNFL.png', 'S_fullReports/COL061OD2016-03-17widefieldProbRNFL.png', 'S_fullReports/COL062OS2016-03-21widefieldProbRNFL.png', 'S_fullReports/COL063OD2016-03-24widefieldProbRNFL.png', 'S_fullReports/COL064OS2016-04-14widefieldProbRNFL.png', 'S_fullReports/COL065OS2016-03-31widefieldProbRNFL.png', 'S_fullReports/COL066OD2016-04-20widefieldProbRNFL.png', 'S_fullReports/COL068OS2016-04-26widefieldProbRNFL.png', 'S_fullReports/COL069OS2016-04-21widefieldProbRNFL.png', 'S_fullReports/COL072OD2016-04-22widefieldProbRNFL.png', 'S_fullReports/COL073OD2016-04-27widefieldProbRNFL.png', 'S_fullReports/COL074OD2016-04-27widefieldProbRNFL.png', 'S_fullReports/COL075OD2016-05-02widefieldProbRNFL.png', 'S_fullReports/COL076OD2016-05-04widefieldProbRNFL.png', 'S_fullReports/COL077OD2016-05-20widefieldProbRNFL.png', 'S_fullReports/COL078OS2016-05-27widefieldProbRNFL.png', 'S_fullReports/COL080COL080OS2016-06-14widefieldProbRNFL.png', 'S_fullReports/COL082OS2016-05-18widefieldProbRNFL.png', 'S_fullReports/COL085OD2016-05-19widefieldProbRNFL.png', 'S_fullReports/COL086OS2016-05-26widefieldProbRNFL.png', 'S_fullReports/COL094OS2016-06-16widefieldProbRNFL.png', 'S_fullReports/COL098OS2017-10-06widefieldProbRNFL.png', 'S_fullReports/COL102OS2016-06-03widefieldProbRNFL.png', 'S_fullReports/COL103OS2016-06-06widefieldProbRNFL.png', 'S_fullReports/COL108COL108OD2016-07-26widefieldProbRNFL.png', 'S_fullReports/COL109COL109OS2016-08-08widefieldProbRNFL.png', 'S_fullReports/COL110COL110OD2016-08-02widefieldProbRNFL.png', 'S_fullReports/COL119COL119OS2016-08-17widefieldProbRNFL.png', 'S_fullReports/COL121COL12139287OS2016-10-26wideProbRNFL.png', 'S_fullReports/COL123COL12340241OD2016-08-30wideProbRNFL.png', 'S_fullReports/COL124COL12439244OD2016-09-26wideProbRNFL.png', 'S_fullReports/COL125COL12540250OS2016-09-27wideProbRNFL.png', 'S_fullReports/COL126COL12640254OD2016-09-27wideProbRNFL.png', 'S_fullReports/COL129COL12940302OS2016-11-16wideProbRNFL.png', 'S_fullReports/COL130COL130OS2016-09-20widefieldProbRNFL.png', 'S_fullReports/COL133OS2016-10-14widefieldProbRNFL.png', 'S_fullReports/COL134COL134OD2016-11-02widefieldProbRNFL.png', 'S_fullReports/COL13540182OD2016-10-17wideProbRNFL.png', 'S_fullReports/COL136COL136OD2016-10-21widefieldProbRNFL.png', 'S_fullReports/COL139COL13940292OD2016-11-04wideProbRNFL.png', 'S_fullReports/COL140COL14039291OD2016-10-31wideProbRNFL.png', 'S_fullReports/COL142COL14239318OD2016-11-18wideProbRNFL.png', 'S_fullReports/COL145COL14540256OD2016-10-07wideProbRNFL.png', 'S_fullReports/COL146COL14639354OD2016-12-15wideProbRNFL.png', 'S_fullReports/COL147COL147OS2016-12-02widefieldProbRNFL.png', 'S_fullReports/COL148COL148OD2017-01-11widefieldProbRNFL.png', 'S_fullReports/COL151COL151OS2017-01-18widefieldProbRNFL.png', 'S_fullReports/COL153COL15340189OD2017-01-18wideProbRNFL.png', 'S_fullReports/COL166COL166OS2017-04-11widefieldProbRNFL.png', 'S_fullReports/COL167COL167OS2017-02-27widefieldProbRNFL.png', 'S_fullReports/COL174COL174OS2017-09-14widefieldProbRNFL.png', 'S_fullReports/COL187COL187OS2017-07-10widefieldProbRNFL.png', 'S_fullReports/COL191COL191OD2017-04-14widefieldProbRNFL.png', 'S_fullReports/COL196COL196OD2017-07-14widefieldProbRNFL.png', 'S_fullReports/COL197COL197OD2017-04-12widefieldProbRNFL.png', 'S_fullReports/COL199COL199OS2017-08-14widefieldProbRNFL.png', 'S_fullReports/COL201COL201OD2017-04-21widefieldProbRNFL.png']\n",
            "[0.0027409617323428392, 0.8518518805503845]\n"
          ],
          "name": "stdout"
        }
      ]
    },
    {
      "cell_type": "code",
      "metadata": {
        "id": "9zR8193c48lD",
        "colab_type": "code",
        "colab": {}
      },
      "source": [
        "model.save('/gdrive/My Drive/vgg16DenseTranferLearn062920.h5')"
      ],
      "execution_count": null,
      "outputs": []
    }
  ]
}