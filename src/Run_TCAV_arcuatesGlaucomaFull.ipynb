{
  "nbformat": 4,
  "nbformat_minor": 0,
  "metadata": {
    "accelerator": "GPU",
    "colab": {
      "name": "Run TCAV.ipynb",
      "provenance": [],
      "collapsed_sections": [],
      "machine_shape": "hm"
    },
    "environment": {
      "name": "tf-gpu.1-15.m47",
      "type": "gcloud",
      "uri": "gcr.io/deeplearning-platform-release/tf-gpu.1-15:m47"
    },
    "kernelspec": {
      "display_name": "Python 3",
      "language": "python",
      "name": "python3"
    },
    "language_info": {
      "codemirror_mode": {
        "name": "ipython",
        "version": 3
      },
      "file_extension": ".py",
      "mimetype": "text/x-python",
      "name": "python",
      "nbconvert_exporter": "python",
      "pygments_lexer": "ipython3",
      "version": "3.7.6"
    }
  },
  "cells": [
    {
      "cell_type": "markdown",
      "metadata": {
        "colab_type": "text",
        "id": "p-tO3tfPQGnL"
      },
      "source": [
        "# Running TCAV\n",
        "\n",
        "\n",
        "This notebook walks you through things you need to run TCAV. In high level, you need:\n",
        "\n",
        "1. **example images in each folder**\n",
        " * images for each concept\n",
        " * images for the class/labels of interest\n",
        " * random images that will be negative examples when learning CAVs (images that probably don't belong to any concepts)\n",
        "2. **model wrapper**: an instance of  ModelWrapper abstract class (in model.py). This tells TCAV class (tcav.py) how to communicate with your model (e.g., getting internal tensors)\n",
        "3. **act_generator**: an instance of ActivationGeneratorInterface that tells TCAV class how to load example data and how to get activations from the model\n",
        "\n",
        "\n",
        "\n",
        "## Requirements\n",
        "\n",
        "    pip install the tcav and tensorflow packages (or tensorflow-gpu if using GPU)"
      ]
    },
    {
      "cell_type": "code",
      "metadata": {
        "colab_type": "code",
        "id": "1bpbPcdtLi7d",
        "colab": {
          "base_uri": "https://localhost:8080/",
          "height": 627
        },
        "outputId": "b1bbdba2-aa88-4259-b768-c3cc39130a56"
      },
      "source": [
        "import os\n",
        "import sys\n",
        "\n",
        "'''\n",
        "Initial setup\n",
        "'''\n",
        "project_id = 'serene-athlete-271523'\n",
        "try:\n",
        "  import google.colab\n",
        "  IN_COLAB = True\n",
        "except:\n",
        "  IN_COLAB = False\n",
        "if IN_COLAB:\n",
        "    from google.colab import drive\n",
        "    \n",
        "    drive.mount(\"/content/drive\")\n",
        "    os.chdir(\"/content/drive\")\n",
        "\n",
        "    base_drive = 'Shared drives/TCAV4OCT/'\n",
        "    \n",
        "    %tensorflow_version 1.15.2\n",
        "    import tensorflow as tf\n",
        "elif not IN_COLAB:\n",
        "    import tensorflow as tf\n",
        "    root_dir = '/home/jupyter/tcav_synced/'\n",
        "    sync_me = True\n",
        "    # 1. install command: curl https://rclone.org/install.sh | sudo bash\n",
        "    # 2. follow instructions to set up credentials, use remote login in last step: https://rclone.org/drive/\n",
        "    #!rclone sync tcav {root_dir} -P\n",
        "    base_drive = root_dir\n",
        "    if sync_me:\n",
        "        !rclone copy {root_dir} tcav:\n",
        "        print('done safe-syncing from cloud to drive')\n",
        "        !rclone copy tcav: {root_dir}\n",
        "        print('done safe-syncing from drive to cloud')\n",
        "    else:\n",
        "        print('not syncing')\n",
        "    print(\"Num GPUs Available: \", len(tf.config.experimental.list_physical_devices('GPU')))\n",
        "    if tf.test.gpu_device_name(): \n",
        "        print('Default GPU Device:{}'.format(tf.test.gpu_device_name()))\n",
        "        print(tf.DeviceSpec(device_type=\"GPU\", device_index=34343))\n",
        "        gpus = True\n",
        "        strategy = tf.distribute.MirroredStrategy()\n",
        "    else:\n",
        "        gpus = False\n",
        "        print(\"Not using GPU version of TF\")\n",
        "    #!rclone copy {data_dir} midus:data  -P\n",
        "    #!rclone copy {results_dir} midus:results -P\n",
        "os.chdir(base_drive)\n",
        "try:\n",
        "  !pip uninstall -y tcav\n",
        "except:\n",
        "  print('tcav not installed')\n",
        "!pip3 install git+https://github.com/schko/tcav.git\n",
        "# set this to true to run tcav default\n",
        "default_vars = False"
      ],
      "execution_count": null,
      "outputs": [
        {
          "output_type": "stream",
          "text": [
            "Go to this URL in a browser: https://accounts.google.com/o/oauth2/auth?client_id=947318989803-6bn6qk8qdgf4n4g3pfee6491hc0brc4i.apps.googleusercontent.com&redirect_uri=urn%3aietf%3awg%3aoauth%3a2.0%3aoob&response_type=code&scope=email%20https%3a%2f%2fwww.googleapis.com%2fauth%2fdocs.test%20https%3a%2f%2fwww.googleapis.com%2fauth%2fdrive%20https%3a%2f%2fwww.googleapis.com%2fauth%2fdrive.photos.readonly%20https%3a%2f%2fwww.googleapis.com%2fauth%2fpeopleapi.readonly\n",
            "\n",
            "Enter your authorization code:\n",
            "··········\n",
            "Mounted at /content/drive\n",
            "`%tensorflow_version` only switches the major version: 1.x or 2.x.\n",
            "You set: `1.15.2`. This will be interpreted as: `1.x`.\n",
            "\n",
            "\n",
            "TensorFlow 1.x selected.\n",
            "\u001b[33mWARNING: Skipping tcav as it is not installed.\u001b[0m\n",
            "Collecting git+https://github.com/schko/tcav.git\n",
            "  Cloning https://github.com/schko/tcav.git to /tmp/pip-req-build-oue0qrvw\n",
            "  Running command git clone -q https://github.com/schko/tcav.git /tmp/pip-req-build-oue0qrvw\n",
            "Requirement already satisfied: matplotlib>=2.2.4 in /usr/local/lib/python3.6/dist-packages (from tcav==0.2.1) (3.2.2)\n",
            "Requirement already satisfied: Pillow>=6.0.0 in /usr/local/lib/python3.6/dist-packages (from tcav==0.2.1) (7.0.0)\n",
            "Requirement already satisfied: scikit-learn>=0.20.3 in /usr/local/lib/python3.6/dist-packages (from tcav==0.2.1) (0.22.2.post1)\n",
            "Requirement already satisfied: scipy>=1.2.1 in /usr/local/lib/python3.6/dist-packages (from tcav==0.2.1) (1.4.1)\n",
            "Requirement already satisfied: protobuf>=3.10.0 in /usr/local/lib/python3.6/dist-packages (from tcav==0.2.1) (3.10.0)\n",
            "Requirement already satisfied: kiwisolver>=1.0.1 in /usr/local/lib/python3.6/dist-packages (from matplotlib>=2.2.4->tcav==0.2.1) (1.2.0)\n",
            "Requirement already satisfied: cycler>=0.10 in /usr/local/lib/python3.6/dist-packages (from matplotlib>=2.2.4->tcav==0.2.1) (0.10.0)\n",
            "Requirement already satisfied: python-dateutil>=2.1 in /usr/local/lib/python3.6/dist-packages (from matplotlib>=2.2.4->tcav==0.2.1) (2.8.1)\n",
            "Requirement already satisfied: numpy>=1.11 in /usr/local/lib/python3.6/dist-packages (from matplotlib>=2.2.4->tcav==0.2.1) (1.18.5)\n",
            "Requirement already satisfied: pyparsing!=2.0.4,!=2.1.2,!=2.1.6,>=2.0.1 in /usr/local/lib/python3.6/dist-packages (from matplotlib>=2.2.4->tcav==0.2.1) (2.4.7)\n",
            "Requirement already satisfied: joblib>=0.11 in /usr/local/lib/python3.6/dist-packages (from scikit-learn>=0.20.3->tcav==0.2.1) (0.15.1)\n",
            "Requirement already satisfied: setuptools in /usr/local/lib/python3.6/dist-packages (from protobuf>=3.10.0->tcav==0.2.1) (47.3.1)\n",
            "Requirement already satisfied: six>=1.9 in /usr/local/lib/python3.6/dist-packages (from protobuf>=3.10.0->tcav==0.2.1) (1.12.0)\n",
            "Building wheels for collected packages: tcav\n",
            "  Building wheel for tcav (setup.py) ... \u001b[?25l\u001b[?25hdone\n",
            "  Created wheel for tcav: filename=tcav-0.2.1-cp36-none-any.whl size=38689 sha256=f1711ad2999432da5352314ff4093155b7301010dd7d00a9d21addc0a294e7a0\n",
            "  Stored in directory: /tmp/pip-ephem-wheel-cache-ayw4ee62/wheels/db/0e/fb/fac83dc9aeade3b0f2c046fe6ead066776049fb128b3c7ead3\n",
            "Successfully built tcav\n",
            "Installing collected packages: tcav\n",
            "Successfully installed tcav-0.2.1\n"
          ],
          "name": "stdout"
        }
      ]
    },
    {
      "cell_type": "code",
      "metadata": {
        "colab_type": "code",
        "id": "i-tRhrUMQGnO",
        "colab": {}
      },
      "source": [
        "%load_ext autoreload\n",
        "%autoreload 2"
      ],
      "execution_count": null,
      "outputs": []
    },
    {
      "cell_type": "code",
      "metadata": {
        "colab_type": "code",
        "id": "Fj4-A4-QQGnR",
        "colab": {
          "base_uri": "https://localhost:8080/",
          "height": 55
        },
        "outputId": "1faf10fc-a87c-481d-b37e-72ed0818b59e"
      },
      "source": [
        "import tcav.activation_generator as act_gen\n",
        "import tcav.cav as cav\n",
        "import tcav.model  as model\n",
        "import tcav.tcav as tcav\n",
        "import tcav.utils as utils\n",
        "import tcav.utils_plot as utils_plot # utils_plot requires matplotlib\n",
        "import random\n",
        "tf.VERSION"
      ],
      "execution_count": null,
      "outputs": [
        {
          "output_type": "execute_result",
          "data": {
            "text/plain": [
              "'1.15.2'"
            ]
          },
          "metadata": {
            "tags": []
          },
          "execution_count": 3
        }
      ]
    },
    {
      "cell_type": "markdown",
      "metadata": {
        "colab_type": "text",
        "id": "QNqQwp4wWZtS"
      },
      "source": [
        "#Step 0. Download images"
      ]
    },
    {
      "cell_type": "markdown",
      "metadata": {
        "colab_type": "text",
        "id": "bcDzoBKUQGnU"
      },
      "source": [
        "## Step 1. Store concept and target class images to local folders\n",
        "\n",
        "and tell TCAV where they are.\n",
        "\n",
        "**source_dir**: where images of concepts, target class and random images (negative samples when learning CAVs) live. Each should be a sub-folder within this directory.\n",
        "\n",
        "Note that random image directories can be in any name. In this example, we are using `random500_0`, `random500_1`,.. for an arbitrary reason. \n",
        "\n",
        "\n",
        "You need roughly 50-200 images per concept and target class (10-20 pictures also tend to work, but 200 is pretty safe).\n",
        "\n",
        "\n",
        "**cav_dir**: directory to store CAVs (`None` if you don't want to store)\n",
        "\n",
        "**target, concept**: names of the target class (that you want to investigate) and concepts (strings) - these are folder names in source_dir\n",
        "\n",
        "**bottlenecks**: list of bottleneck names (intermediate layers in your model) that you want to use for TCAV. These names are defined in the model wrapper below.\n",
        "\n"
      ]
    },
    {
      "cell_type": "code",
      "metadata": {
        "colab_type": "code",
        "id": "Dl-wobLzQGnV",
        "colab": {}
      },
      "source": [
        "# folder prefix \n",
        "prefix = 'playground'\n",
        "\n",
        "# This is the name of your model wrapper (InceptionV3 and GoogleNet are provided in model.py)\n",
        "# model_to_run = 'GoogleNet'  \n",
        "user = 'sharath'\n",
        "# the name of the parent directory that results are stored (only if you want to cache)\n",
        "project_name = 'tcav_class_test'\n",
        "working_dir = \"/tmp/\" + user + '/' + project_name\n",
        "# where activations are stored (only if your act_gen_wrapper does so)\n",
        "activation_dir =  working_dir+ '/activations/'\n",
        "# where CAVs are stored. \n",
        "# You can say None if you don't wish to store any.\n",
        "cav_dir = working_dir + '/cavs/'\n",
        "# where the images live. \n",
        "source_dir = prefix + \"/image_net_subsets/\"\n",
        "utils.make_dir_if_not_exists(activation_dir)\n",
        "utils.make_dir_if_not_exists(working_dir)\n",
        "utils.make_dir_if_not_exists(cav_dir)\n",
        "\n",
        "# this is a regularizer penalty parameter for linear classifier to get CAVs. \n",
        "alphas = [0.1]   \n",
        "\n",
        "if default_vars:\n",
        "  target = 'zebra'\n",
        "  bottlenecks = ['mixed4c']  # @param \n",
        "else:\n",
        "  target = 'GlaucomaFull'\n",
        "  bottlenecks = ['flatten_1','dense_1','dense_3']  # @param \n",
        "  #bottlenecks = ['mixed_6c']\n",
        "  concepts = [\"arcuates\", \"red_texture\",\"green_texture\",\"RNFLprob\"] #\"RNFLprob\",\"VFonly\",\n",
        "  #concepts = [\"red_texture\", \"red_solid\", \"green_solid\", \"green_texture\"]\n",
        "  #concepts = [\"RGCPprob\",\"RNFLprob\",\"RNFLthickness\",\"RGCPthickness\"]\n",
        "#concepts = [\"dotted\",\"striped\",\"zigzagged\"]   \n"
      ],
      "execution_count": null,
      "outputs": []
    },
    {
      "cell_type": "markdown",
      "metadata": {
        "colab_type": "text",
        "id": "DN72G_E_QGnZ"
      },
      "source": [
        "## Step 2. Write your model wrapper\n",
        "\n",
        "Next step is to tell TCAV how to communicate with your model. See `model.GoolgeNetWrapper_public ` for details.\n",
        "\n",
        "You can define a subclass of ModelWrapper abstract class to do this. Let me walk you thru what each function does (tho they are pretty self-explanatory).  This wrapper includes a lot of the functions that you already have, for example, `get_prediction`.\n",
        "\n",
        "### 1. Tensors from the graph: bottleneck tensors and ends\n",
        "First, store your bottleneck tensors in `self.bottlenecks_tensors` as a dictionary. You only need bottlenecks that you are interested in running TCAV with. Similarly, fill in `self.ends` dictionary with `input`, `logit` and `prediction` tensors.\n",
        "\n",
        "### 2. Define loss\n",
        "Get your loss tensor, and assigned it to `self.loss`. This is what TCAV uses to take directional derivatives. \n",
        "\n",
        "While doing so, you would also want to set \n",
        "```python\n",
        "self.y_input \n",
        "```\n",
        "this simply is a tensorflow place holder for the target index in the logit layer (e.g., 0 index for a dog, 1 for a cat).\n",
        "For multi-class classification, typically something like this works:\n",
        "\n",
        "```python\n",
        "self.y_input = tf.placeholder(tf.int64, shape=[None])\n",
        "```\n",
        "\n",
        "For example, for a multiclass classifier, something like below would work. \n",
        "\n",
        "```python\n",
        "    # Construct gradient ops.\n",
        "    with g.as_default():\n",
        "      self.y_input = tf.placeholder(tf.int64, shape=[None])\n",
        "\n",
        "      self.pred = tf.expand_dims(self.ends['prediction'][0], 0)\n",
        "\n",
        "      self.loss = tf.reduce_mean(\n",
        "          tf.nn.softmax_cross_entropy_with_logits(\n",
        "              labels=tf.one_hot(self.y_input, len(self.labels)),\n",
        "              logits=self.pred))\n",
        "    self._make_gradient_tensors()\n",
        "```\n",
        "\n",
        "### 3. Call _make_gradient_tensors in __init__() of your wrapper\n",
        "```python\n",
        "_make_gradient_tensors()  \n",
        "```\n",
        "does what you expect - given the loss and bottleneck tensors defined above, it adds gradient tensors.\n",
        "\n",
        "### 4. Fill in labels, image shapes and a model name.\n",
        "Get the mapping from labels (strings) to indice in the logit layer (int) in a dictionary format.\n",
        "\n",
        "```python\n",
        "def id_to_label(self, idx)\n",
        "def label_to_id(self, label)\n",
        "```\n",
        "\n",
        "Set your input image shape at  `self.image_shape`\n",
        "\n",
        "\n",
        "Set your model name to `self.model_name`\n",
        "\n",
        "You are done with writing the model wrapper! I wrote two model wrapers, InceptionV3 and Googlenet."
      ]
    },
    {
      "cell_type": "markdown",
      "metadata": {
        "colab_type": "text",
        "id": "t_D2IpFdQGna"
      },
      "source": [
        "\n",
        "**sess**: a tensorflow session."
      ]
    },
    {
      "cell_type": "code",
      "metadata": {
        "colab_type": "code",
        "id": "UVRQAge0QGnb",
        "scrolled": true,
        "colab": {
          "base_uri": "https://localhost:8080/",
          "height": 1000
        },
        "outputId": "71ea73b8-ee66-4c99-a02e-d5e6c8f8ee61"
      },
      "source": [
        "sess = utils.create_session()\n",
        "\n",
        "# GRAPH_PATH is where the trained model is stored.\n",
        "#\n",
        "if default_vars:\n",
        "  GRAPH_PATH =  prefix + \"/trained_models/google_net_inception_v1/tensorflow_inception_graph.pb\"\n",
        "  LABEL_PATH = prefix + \"/trained_models/google_net_inception_v1/imagenet_comp_graph_label_strings.txt\"\n",
        "  mymodel = model.GoolgeNetWrapper_public(sess,\n",
        "                                        GRAPH_PATH,\n",
        "                                        LABEL_PATH, default_vars)\n",
        "else:\n",
        "  # Custom\n",
        "  #GRAPH_PATH =  prefix + \"/trained_models/CNNplusFC/CNNplusFC_model.pb\"\n",
        "  #LABEL_PATH = prefix + \"/trained_models/CNNplusFC/CNNplusFC_labelStrings.txt\"\n",
        "  #mymodel = model.CNNFC2NetWrapper_public(sess,\n",
        "  #                                     GRAPH_PATH,\n",
        "  #                                     LABEL_PATH, default_vars)\n",
        "  GRAPH_PATH =  prefix + \"/trained_models/multiClassModels/inceptionV3multiClass.pb\" #denseNet121_5ClassOnlyGlaucomaFeats.pb\n",
        "  LABEL_PATH = prefix + \"/trained_models/multiClassModels/multiClass_labelStrings.txt\"\n",
        "  mymodel = model.inceptionV3multiClassWrapper_public(sess, #denseNetMultiClassWrapper\n",
        "                                        GRAPH_PATH,\n",
        "                                        LABEL_PATH, default_vars)\n",
        "# LABEL_PATH is where the labels are stored. Each line contains one class, and they are ordered with respect to their index in \n",
        "# the logit layer. (yes, id_to_label function in the model wrapper reads from this file.)\n",
        "# For example, imagenet_comp_graph_label_strings.txt looks like:\n",
        "# dummy                                                                                      \n",
        "# kit fox\n",
        "# English setter\n",
        "# Siberian husky ..."
      ],
      "execution_count": null,
      "outputs": [
        {
          "output_type": "stream",
          "text": [
            "WARNING:tensorflow:From /usr/local/lib/python3.6/dist-packages/tcav/utils.py:40: The name tf.ConfigProto is deprecated. Please use tf.compat.v1.ConfigProto instead.\n",
            "\n",
            "WARNING:tensorflow:From /usr/local/lib/python3.6/dist-packages/tcav/utils.py:44: The name tf.InteractiveSession is deprecated. Please use tf.compat.v1.InteractiveSession instead.\n",
            "\n",
            "WARNING:tensorflow:From /usr/local/lib/python3.6/dist-packages/tcav/model.py:322: The name tf.placeholder is deprecated. Please use tf.compat.v1.placeholder instead.\n",
            "\n",
            "WARNING:tensorflow:From /usr/local/lib/python3.6/dist-packages/tcav/model.py:328: The name tf.GraphDef is deprecated. Please use tf.compat.v1.GraphDef instead.\n",
            "\n",
            "WARNING:tensorflow:From /usr/local/lib/python3.6/dist-packages/tcav/model.py:302: The name tf.get_default_graph is deprecated. Please use tf.compat.v1.get_default_graph instead.\n",
            "\n",
            "Merge\n",
            "Merge\n",
            "Merge\n",
            "Merge\n",
            "Merge\n",
            "Merge\n",
            "Merge\n",
            "Merge\n",
            "Merge\n",
            "Merge\n",
            "Merge\n",
            "Merge\n",
            "Merge\n",
            "Merge\n",
            "Merge\n",
            "Merge\n",
            "Merge\n",
            "Merge\n",
            "Merge\n",
            "Merge\n",
            "Merge\n",
            "Merge\n",
            "Merge\n",
            "Merge\n",
            "Merge\n",
            "Merge\n",
            "Merge\n",
            "Merge\n",
            "Merge\n",
            "Merge\n",
            "Merge\n",
            "Merge\n",
            "Merge\n",
            "Merge\n",
            "Merge\n",
            "Merge\n",
            "Merge\n",
            "Merge\n",
            "Merge\n",
            "Merge\n",
            "Merge\n",
            "Merge\n",
            "Merge\n",
            "Merge\n",
            "Merge\n",
            "Merge\n",
            "Merge\n",
            "Merge\n",
            "Merge\n",
            "Merge\n",
            "Merge\n",
            "Merge\n",
            "Merge\n",
            "Merge\n",
            "Merge\n",
            "Merge\n",
            "Merge\n",
            "Merge\n",
            "Merge\n",
            "Merge\n",
            "Merge\n",
            "Merge\n",
            "Merge\n",
            "Merge\n",
            "Merge\n",
            "Merge\n",
            "Merge\n",
            "Merge\n",
            "Merge\n",
            "Merge\n",
            "Merge\n",
            "Merge\n",
            "Merge\n",
            "Merge\n",
            "Merge\n",
            "Merge\n",
            "Merge\n",
            "Merge\n",
            "Merge\n",
            "Merge\n",
            "Merge\n",
            "Merge\n",
            "Merge\n",
            "Merge\n",
            "Merge\n",
            "Merge\n",
            "Merge\n",
            "Merge\n",
            "Merge\n",
            "Merge\n",
            "Merge\n",
            "Merge\n",
            "Merge\n",
            "Merge\n",
            "Reshape\n",
            "BiasAdd\n",
            "Merge\n",
            "BiasAdd\n",
            "BiasAdd\n",
            "bn_endpoints:  {'inception_v3': <tf.Tensor 'inception_v3/inception_v3/batch_normalization_86/cond/Merge:0' shape=(?, ?, ?, 320) dtype=float32>, 'flatten_1': <tf.Tensor 'inception_v3/flatten_1/Reshape:0' shape=(?, ?) dtype=float32>, 'dense_1': <tf.Tensor 'inception_v3/dense_1/BiasAdd:0' shape=(?, 128) dtype=float32>, 'dropout_1': <tf.Tensor 'inception_v3/dropout_1/cond/Merge:0' shape=(?, 128) dtype=float32>, 'dense_2': <tf.Tensor 'inception_v3/dense_2/BiasAdd:0' shape=(?, 64) dtype=float32>, 'dense_3': <tf.Tensor 'inception_v3/dense_3/BiasAdd:0' shape=(?, 4) dtype=float32>}\n",
            "WARNING:tensorflow:From /usr/local/lib/python3.6/dist-packages/tcav/model.py:272: softmax_cross_entropy_with_logits (from tensorflow.python.ops.nn_ops) is deprecated and will be removed in a future version.\n",
            "Instructions for updating:\n",
            "\n",
            "Future major versions of TensorFlow will allow gradients to flow\n",
            "into the labels input on backprop by default.\n",
            "\n",
            "See `tf.nn.softmax_cross_entropy_with_logits_v2`.\n",
            "\n"
          ],
          "name": "stdout"
        }
      ]
    },
    {
      "cell_type": "markdown",
      "metadata": {
        "colab_type": "text",
        "id": "tOavmuh3QGne"
      },
      "source": [
        "## Step 3. Implement a class that returns activations (maybe with caching!)\n",
        "\n",
        "Lastly, you will implement a class of the ActivationGenerationInterface which TCAV uses to load example data for a given concept or target, call into your model wrapper and return activations. I pulled out this logic outside of mymodel because this step often takes the longest. By making it modular, you can cache your activations and/or parallelize your computations, as I have done in `ActivationGeneratorBase.process_and_load_activations` in `activation_generator.py`.\n",
        "\n",
        "\n",
        "The `process_and_load_activations` method of the activation generator must return a dictionary of activations that has concept or target name as  a first key, and the bottleneck name as a second key. So something like:\n",
        "\n",
        "```python\n",
        "{concept1: {bottleneck1: [[0.2, 0.1, ....]]},\n",
        "concept2: {bottleneck1: [[0.1, 0.02, ....]]},\n",
        "target1: {bottleneck1: [[0.02, 0.99, ....]]}\n",
        "```\n"
      ]
    },
    {
      "cell_type": "code",
      "metadata": {
        "colab_type": "code",
        "id": "WA-CV78VQGnf",
        "colab": {}
      },
      "source": [
        "act_generator = act_gen.ImageActivationGenerator(mymodel, source_dir, activation_dir, max_examples=100)"
      ],
      "execution_count": null,
      "outputs": []
    },
    {
      "cell_type": "markdown",
      "metadata": {
        "colab_type": "text",
        "id": "dadx_ZsRQGni"
      },
      "source": [
        "## You are ready to run TCAV!\n",
        "\n",
        "Let's do it.\n",
        "\n",
        "**num_random_exp**: number of experiments to confirm meaningful concept direction. TCAV will search for this many folders named `random500_0`, `random500_1`, etc. You can alternatively set the `random_concepts` keyword to be a list of folders of random concepts. Run at least 10-20 for meaningful tests. \n",
        "\n",
        "**random_counterpart**: as well as the above, you can optionally supply a single folder with random images as the \"positive set\" for statistical testing. Reduces computation time at the cost of less reliable random TCAV scores. \n"
      ]
    },
    {
      "cell_type": "code",
      "metadata": {
        "colab_type": "code",
        "id": "6O8hxG1GqhWM",
        "scrolled": true,
        "colab": {}
      },
      "source": [
        "goog=prefix + \"/trained_models/multiClassModels/inceptionV3multiClass.pb\"\n",
        "def print_graph_nodes():\n",
        "  # https://stackoverflow.com/questions/50632258/how-to-restore-tensorflow-model-from-pb-file-in-python\n",
        "  import tensorflow as tf\n",
        "  from tensorflow.python.platform import gfile\n",
        "  GRAPH_PB_PATH = GRAPH_PATH\n",
        "  with tf.Session() as sess:\n",
        "    print(\"load graph\")\n",
        "    with gfile.FastGFile(GRAPH_PB_PATH,'rb') as f:\n",
        "        graph_def = tf.GraphDef()\n",
        "    graph_def.ParseFromString(f.read())\n",
        "    sess.graph.as_default()\n",
        "    tf.import_graph_def(graph_def, name='')\n",
        "    graph_nodes=[n for n in graph_def.node]\n",
        "    names = []\n",
        "    for t in graph_nodes:\n",
        "        names.append(t.name)\n",
        "    print(names)\n",
        "\n",
        "def load_pb(graphp=GRAPH_PATH):\n",
        "    with tf.gfile.GFile(graphp, \"rb\") as f:\n",
        "        graph_def = tf.GraphDef()\n",
        "        graph_def.ParseFromString(f.read())\n",
        "    with tf.Graph().as_default() as graph:\n",
        "        tf.import_graph_def(graph_def, name='')\n",
        "        return graph\n",
        "\n",
        "#print_graph_nodes()\n",
        "#graph = load_pb(goog)\n",
        "#graph = load_pb(GRAPH_PATH)"
      ],
      "execution_count": null,
      "outputs": []
    },
    {
      "cell_type": "code",
      "metadata": {
        "colab_type": "code",
        "id": "wmyGCtAYLi7y",
        "colab": {}
      },
      "source": [
        "def get_rc(additional_rcs = 250):\n",
        "    rc = ['phones', 'bars', 'hands', 'cheetah print', 'money', 'paper clips', 'mri', 'buildings', 'necklace', 'dosa']\n",
        "    goog_rc = ['tricycle', 'slug', 'streetcar', 'Eskimo dog', ' patrol wagon', 'lesser panda', ' punching ball', ' chocolate syrup', 'buckle', \n",
        "               ' meat cleaver', ' hen of the woods', ' sand bar', 'hatchet', 'magpie', 'valley', ' Galeocerdo cuvieri', ' paddy wagon', 'moped', \n",
        "               ' Scottish terrier', 'wombat', ' chow chow', 'microwave', 'mobile home', 'barbell', 'coral reef', 'chime', 'golfcart', 'macaque', \n",
        "               ' Dandie Dinmont terrier', 'shield', ' day bed', 'miniature pinscher', ' Maine lobster', 'gar', ' rocker', ' daddy longlegs', \n",
        "               ' pay-station', 'lab coat', ' Maltese terrier', ' Ascaphus trui', ' prairie grouse', 'toaster', 'sundial', 'running shoe', \n",
        "               'wardrobe', 'bell pepper', ' meatloaf', ' vat', ' offshore rig', 'whippet', ' Ailurus fulgens', ' Alopex lagopus', ' glasshouse', \n",
        "               ' all-terrain bike', 'restaurant', ' koala bear', ' megalithic structure', ' mollymawk', ' nappy', 'Scotch terrier', ' blowfish', \n",
        "               ' docking facility', 'velvet', ' painter', ' groyne', ' anteater', 'cloak', ' Hylobates syndactylus', 'Tibetan mastiff', 'dragonfly', \n",
        "               'butternut squash', 'cello', 'punching bag', 'cardoon', ' mileometer', ' spiny anteater', 'sunscreen', ' mountain lion', ' stop watch', \n",
        "               'Dandie Dinmont', 'hammer', 'German short-haired pointer', 'snow leopard', ' Lepisosteus osseus', 'eggnog', ' busby', ' skeeter hawk', \n",
        "               'tench', ' leatherback', 'screwdriver', ' Phalangium opilio', 'tank', 'Leonberg', 'snail', 'banjo', 'bookshop', ' duck-billed platypus', \n",
        "               'golf ball', 'sleeping bag', 'platypus', 'violin', 'tiger beetle', ' Walker foxhound', 'seat belt', ' sewing needle', ' hankey', \n",
        "               'Afghan hound', ' terrace', 'stone wall', 'Angora', ' pipe organ', 'red wine', 'cup', ' laboratory coat', 'Windsor tie', ' high bar', \n",
        "               ' monocycle', 'green lizard', ' dish washer', 'orangutan', 'racket', ' bobtail', 'chickadee', ' taper', ' remote', 'apiary', ' tope', \n",
        "               'projector', 'frying pan', 'microphone', ' garfish', ' fire truck', 'daisy', ' baseball player', ' board', 'greenhouse', ' Varanus komodoensis', \n",
        "               ' Grifola frondosa', 'bassoon', 'toy terrier', ' Dermochelys coriacea', ' ribbed toad', 'gyromitra', 'shovel', 'proboscis monkey', 'hair slide', \n",
        "               ' frypan', ' ring mail', ' conker', 'hourglass', 'Loafer', 'caldron', 'pill bottle', ' Homarus americanus', ' penny bank', 'English springer', \n",
        "               ' Crotalus adamanteus', ' eating house', 'Old English sheepdog', 'jigsaw puzzle', \"potter's wheel\", ' chrysanthemum dog', 'pinwheel', \n",
        "               'wood rabbit', ' jack', ' armored combat vehicle', ' whiptail lizard', ' carrion fungus', ' Chamaeleo chamaeleon', 'guenon', ' bell', \n",
        "               ' sea crawfish', ' ananas', 'dung beetle', ' titi monkey', ' orang', 'stupa', 'bakery', 'French bulldog', ' plectrum', 'croquet ball', \n",
        "               ' two-piece', 'fireboat', ' closet', 'stethoscope', 'rifle', 'crutch', 'coyote', 'sorrel', ' trolley', 'mortar', ' crampfish', ' basset hound', \n",
        "               'bow', 'harvester', 'container ship', ' howler', 'jeep', ' crawfish', ' Chlamydosaurus kingi', 'komondor', ' U-boat', ' Alaskan king crab', \n",
        "               'king crab', 'Walker hound', 'organ', 'leatherback turtle', 'hard disc', ' Tringa totanus', 'reel', 'basset', ' Siamese', ' water ox', \n",
        "               ' torpedo', 'wok', ' panda', ' English cocker spaniel', ' Ornithorhynchus anatinus', 'Siamese cat', 'padlock', 'dowitcher', 'candle', \n",
        "               'sports car', ' taxi', 'brassiere', ' bookstall', 'Persian cat', ' army tank', ' ring armor', 'howler monkey', 'espresso maker', ' press', \n",
        "               'harp', ' dishwashing machine', 'shoji', 'Staffordshire bullterrier', 'chocolate sauce', 'Lhasa', 'cricket', 'sarong', 'crane', 'wig', \n",
        "               'wooden spoon', 'hay', ' beam', ' langouste', ' solar furnace', 'studio couch', ' horn', ' white fox', 'hamster', 'schooner', ' guenon monkey', \n",
        "               'Irish water spaniel', 'theater curtain', ' velocipede', 'Tibetan terrier', ' Alaska king crab', 'electric locomotive', ' duckbill', 'warplane', \n",
        "               ' eating place', ' trike', ' sunblock', 'swab', ' jetty', 'little blue heron', 'beer glass', 'American lobster', ' mole', 'Newfoundland', \n",
        "               ' Kakatoe galerita', ' upright piano', 'drilling platform', 'poncho', 'chiton', ' Staffordshire terrier', 'garter snake', 'conch', \n",
        "               ' polyplacophore', 'church', ' quill pen', 'solar dish', 'king penguin', 'pug', 'safety pin', 'shower curtain', ' CRT screen', 'rocking chair', \n",
        "               ' diamondback rattlesnake', ' pufferfish', ' carriage', ' pencil eraser', ' chain armour', 'maraca', ' Angora rabbit', ' cat bear', ' bakehouse', \n",
        "               'jackfruit', 'fire engine', 'meat loaf', ' scope', ' chain armor', ' tabby cat', 'ballplayer', 'bolo tie', ' tractor trailer', ' giant lizard', \n",
        "               ' Canis lupus', ' Maltese', 'upright', ' Hypsiglena torquata', ' manufactured home', 'half track', ' Scottie', ' dragon lizard', 'eel', 'dough', \n",
        "               'redshank', ' tool kit', 'military uniform', ' tam-tam', 'water snake', ' pig', ' plectron', \" carpenter's plane\", ' grass snake', 'impala', \n",
        "               'lorikeet', 'dishwasher', ' buckler', ' grunter', 'tailed frog', 'whistle', ' alsatian', ' Crotalus cerastes', 'bassinet', 'rock python', \n",
        "               'sandbar', ' clumber spaniel', 'viaduct', 'grasshopper', ' Symphalangus syndactylus', 'yawl', 'siamang', 'otter', 'power drill', ' gong', \n",
        "               ' squealer', 'library', 'chain', ' Lhasa apso', ' seatbelt', ' bell toad', 'cocker spaniel', 'water buffalo', ' reaper', 'strainer', \n",
        "               ' cottontail', ' container vessel', 'consomme', ' Bubalus bubalis', 'French loaf', ' eatery', 'capuchin', ' bra', 'spoonbill', ' red hot', \n",
        "               'basketball', 'spider web', 'vizsla', 'chiffonier', 'spotted salamander', 'Sussex spaniel', ' horned rattlesnake', ' Iguana iguana', \n",
        "               'steam locomotive', 'shopping cart', 'tiger cat', 'cassette', ' otter hound', ' disc brake', ' mosquito hawk', 'submarine', 'green snake', \n",
        "               ' racing car', 'beer bottle', 'jellyfish', ' toilet paper', ' jammies', ' orangutang', 'sea cucumber', 'mongoose', ' race car', \n",
        "               ' cottontail rabbit', ' billfish', 'rapeseed', 'assault rifle', ' bullet', 'whiptail', ' Araneus cavaticus', 'hummingbird', 'Polaroid camera', \n",
        "               ' Paralithodes camtschatica', ' dockage', 'motor scooter', 'Labrador retriever', ' gray wolf', ' woodworking plane', ' Panthera uncia', \n",
        "               'plate rack', ' scooter', ' native bear', ' bathroom tissue', ' hard disk', 'acorn squash', 'cicada', 'frilled lizard', 'lionfish', 'sandal', \n",
        "               'sulphur-crested cockatoo', 'minibus', 'cab', 'totem pole', 'hotdog', ' Felis concolor', 'hornbill', 'Weimaraner', 'birdhouse', 'porcupine', \n",
        "               'mountain bike', ' groin', 'beaver', 'papillon', ' rubber', 'turnstile', ' bighorn sheep', 'balance beam', ' Cacatua galerita', 'dome', \n",
        "               ' hodometer', 'lakeside', ' Turdus migratorius', ' Tinca tinca', ' rock lobster', 'stove', 'sidewinder', 'Shih-Tzu', 'night snake', \n",
        "               ' microwave oven', 'horizontal bar', 'Boston bull', 'electric ray', 'volleyball', 'ski mask', ' armoured combat vehicle', ' chopper', \n",
        "               'pillow', 'hen-of-the-woods', 'spaghetti squash', 'timber wolf', 'rotisserie', 'soft-coated wheaten terrier', ' polar bear', 'snowplow', \n",
        "               ' punchball', 'pot', ' Rocky Mountain bighorn', ' coach', ' ringtail', ' fixed disk', 'German shepherd', 'black swan', \n",
        "               'American Staffordshire terrier', ' Mergus serrator', 'paper towel', ' darning needle', ' duckbilled platypus', ' cocker', 'handkerchief', \n",
        "               'echidna', 'pay-phone', ' meat market', 'amphibian', 'loupe', 'barn', ' German police dog', ' mop', 'bucket', ' radio reflector', 'mixing bowl', \n",
        "               ' cimarron', ' police wagon', 'parachute', ' carabid beetle', \" spider's web\", ' pyjama', 'patio', ' off-roader', ' punch bag', ' bee house', \n",
        "               ' Ambystoma maculatum', 'puffer', ' golf cart', 'hog', 'goblet', ' mike', ' box tortoise', 'radio telescope', 'soccer ball', ' puma', ' vale', \n",
        "               ' containership', 'Border collie', ' Rocky Mountain sheep', ' pit bull terrier', ' Saimiri sciureus', ' flowerpot', 'triumphal arch', \n",
        "               'rubber eraser', ' articulated lorry', ' swob', 'mousetrap', 'tiger shark', ' wax light', 'water tower', ' Triturus vulgaris', ' shako', \n",
        "               'African chameleon', 'police van', 'screen', 'whiskey jug', 'Maltese dog', ' bola tie', 'brain coral', 'ice bear', 'pajama', ' Hungarian pointer', \n",
        "               ' Polaroid Land camera', 'dining table', ' hanky', ' bakeshop', 'piggy bank', 'photocopier', ' shoe store', 'stopwatch', 'chain mail', 'megalith', \n",
        "               ' Polyporus frondosus', ' Python sebae', 'sewing machine', 'face powder', 'common newt', 'bib', 'guillotine', 'prison', ' iguana', 'shoe shop', \n",
        "               'bullet train', 'cheeseburger', ' napkin', ' CRO', ' Afghan', 'iron', 'fiddler crab', ' trolley car', 'Petri dish', ' Pongo pygmaeus', \n",
        "               ' Nasalis larvatus', \" jeweler's loupe\", 'syringe', 'diaper', ' dishcloth', ' snake doctor', 'toilet tissue', ' roach', ' globefish', \n",
        "               ' hankie', 'bolete', 'ski', 'space heater', 'Siberian husky', 'disk brake', 'modem', ' cicala', ' bola', ' lakeshore', 'Japanese spaniel', \n",
        "               ' prairie fowl', ' fiddle', 'marimba', 'langur', ' Alaska crab', ' grey wolf', ' black Maria', ' prairie wolf', 'isopod', 'broom', 'French horn', \n",
        "               'kite', ' amphibious vehicle', 'plane', ' kangaroo bear', 'bikini', ' bolo', 'stage', 'bearskin', ' snowplough', ' jak', 'sombrero', 'prairie chicken', \n",
        "               'jay', ' Boston terrier', 'chow', ' snake feeder', ' hot dog', ' American pit bull terrier', ' Canis latrans', \" devil's darning needle\", \n",
        "               ' Asiatic buffalo', ' Northern lobster', ' Egretta caerulea', 'cockroach', ' Komodo lizard', 'red-breasted merganser', 'koala', 'weasel', ' seawall', \n",
        "               'otterhound', 'cuirass', 'harvestman', 'cannon', 'diamondback', ' garpike', ' church building', ' courgette', ' Phascolarctos cinereus', \n",
        "               ' Staffordshire bull terrier', 'catamaran', ' holothurian', 'Chesapeake Bay retriever', ' leathery turtle', 'cowboy boot', 'Christmas stocking', \n",
        "               'castle', ' Ursus Maritimus', 'bittern', ' pizza pie', 'Arctic fox', 'Rhodesian ridgeback', ' mail', ' wagon', 'nipple', 'ping-pong ball', \n",
        "               ' Aptenodytes patagonica', ' landrover', 'snowmobile', ' cathode-ray oscilloscope', ' nursery', 'macaw', ' red panda', 'cassette player', 'table lamp', \n",
        "               'bannister', 'wine bottle', ' panther', ' husky', 'zucchini', 'space bar', 'odometer', ' commode', 'stingray', ' Newfoundland dog', ' crayfish', \n",
        "               ' rock snake', \" pj's\", 'oil filter', 'tub', 'ground beetle', 'butcher shop', ' tramcar', 'pelican', ' brush wolf', 'stinkhorn', ' numbfish', \n",
        "               ' hockey puck', ' assault gun', 'albatross', 'folding chair', 'purse', 'kuvasz', ' cauldron', 'pizza', 'titi', ' horse chestnut', ' Aepyceros melampus', \n",
        "               'malinois', 'puck', 'spiny lobster', 'green mamba', 'Komodo dragon', 'magnetic compass', 'quill', 'breakwater', ' sun blocker', ' hack', \n",
        "               'Gordon setter', ' xylophone', ' smoothing iron', ' Ovis canadensis', ' trucking rig', ' pail', 'giant schnauzer', 'oscilloscope', 'gong', ' sea cradle', \n",
        "               ' coat-of-mail shell', 'airliner', 'common iguana', ' tailed toad', ' rig', ' English springer spaniel', ' tram', 'EntleBucher', 'dishrag', 'pineapple', \n",
        "               ' military plane', ' Cebus capucinus', ' ring armour', 'clumber', 'unicycle', \"carpenter's kit\", 'squirrel monkey', 'packet', ' German shepherd dog', \n",
        "               ' ounce', 'boxer', 'buckeye', ' taxicab', 'bighorn', 'abacus', 'hamper', 'quail', 'tabby', 'armadillo', ' pug-dog', 'trailer truck', ' prison house', \n",
        "               ' sport car', ' Thalarctos maritimus', ' milometer', ' chute', 'pier', 'pick', ' bulwark', 'bluetick', 'pole', 'espresso', ' catamount', ' violoncello', \n",
        "               'remote control', 'park bench', 'cougar', 'robin', 'tripod', 'racer', ' semi', ' skillet', 'pretzel', 'barn spider', 'dock', 'box turtle', ' pigboat', \n",
        "               ' racquet', ' bear cat', 'redbone', 'altar', 'llama', ' hedgehog', ' Sus scrofa', ' solar collector', ' American robin', 'spindle', ' bandeau', \n",
        "               ' hopper', 'cleaver', ' bookstore', 'passenger car', 'leafhopper', ' shoe-shop', ' theatre curtain', 'tick', ' Cygnus atratus', 'barometer', ' sub', \n",
        "               ' Lacerta viridis', 'dumbbell']\n",
        "    rc.extend(random.sample(goog_rc, additional_rcs))\n",
        "    return rc"
      ],
      "execution_count": null,
      "outputs": []
    },
    {
      "cell_type": "code",
      "metadata": {
        "colab_type": "code",
        "id": "3dNx9aNiQGnj",
        "scrolled": true,
        "colab": {
          "base_uri": "https://localhost:8080/",
          "height": 142
        },
        "outputId": "4bc308e0-45ba-4d0a-808e-90cc01005ea9"
      },
      "source": [
        "import pickle\n",
        "%matplotlib inline\n",
        "tf.logging.set_verbosity(tf.logging.ERROR)\n",
        "rc = ['phones', 'bars', 'hands', 'cheetah print', 'money', 'paper clips', 'mri', 'buildings', 'necklace', 'dosa']\n",
        "## only running num_random_exp = 10 to save some time. The paper number are reported for 500 random runs. \n",
        "mytcav = tcav.TCAV(sess,\n",
        "                   target,\n",
        "                   concepts,\n",
        "                   bottlenecks,\n",
        "                   act_generator,\n",
        "                   alphas,\n",
        "                   cav_dir=cav_dir,\n",
        "                   random_concepts = rc) #get_rc(10))\n",
        "print ('This may take a while... Go get coffee!')\n",
        "results = mytcav.run(run_parallel=True, num_workers=5)\n",
        "\n",
        "\n",
        "with open('result.pickle', 'wb') as handle:\n",
        "    pickle.dump(results, handle, protocol=pickle.HIGHEST_PROTOCOL)\n",
        "print ('done!')\n"
      ],
      "execution_count": null,
      "outputs": [
        {
          "output_type": "stream",
          "text": [
            "This may take a while... Go get coffee!\n",
            "params num:  390\n",
            "Finished running param 100 of 390\n",
            "Finished running param 200 of 390\n",
            "Finished running param 300 of 390\n",
            "done!\n"
          ],
          "name": "stdout"
        }
      ]
    },
    {
      "cell_type": "code",
      "metadata": {
        "colab_type": "code",
        "id": "u1RmmcHa0Ub8",
        "colab": {}
      },
      "source": [
        "import pickle\n",
        "results = pickle.load( open( \"result.pickle\", \"rb\" ) )"
      ],
      "execution_count": null,
      "outputs": []
    },
    {
      "cell_type": "code",
      "metadata": {
        "colab_type": "code",
        "id": "ECP4DElvc55Q",
        "colab": {
          "base_uri": "https://localhost:8080/",
          "height": 838
        },
        "outputId": "77773a3d-87d1-4aaa-f05f-b7462edaaa7c"
      },
      "source": [
        "# print(results)\n",
        "# our output\n",
        "utils_plot.plot_results(results, num_random_exp=10, random_concepts=rc)"
      ],
      "execution_count": null,
      "outputs": [
        {
          "output_type": "stream",
          "text": [
            "Class = GlaucomaFull\n",
            "  Concept = arcuates\n",
            "random_i_ups[bottleneck]:  [0.7368421052631579, 0.07894736842105263, 0.7105263157894737, 0.7368421052631579, 0.7368421052631579, 0.7368421052631579, 0.05263157894736842, 0.7368421052631579, 0.7631578947368421, 0.13157894736842105, 0.10526315789473684, 0.07894736842105263, 0.7631578947368421, 0.07894736842105263, 0.07894736842105263, 0.05263157894736842, 0.07894736842105263, 0.7631578947368421, 0.07894736842105263, 0.7368421052631579, 0.7105263157894737, 0.7368421052631579, 0.7631578947368421, 0.07894736842105263, 0.7368421052631579, 0.7368421052631579, 0.10526315789473684, 0.7631578947368421, 0.7894736842105263, 0.10526315789473684, 0.7894736842105263, 0.7368421052631579, 0.07894736842105263, 0.7894736842105263, 0.07894736842105263, 0.7631578947368421, 0.10526315789473684, 0.7368421052631579, 0.07894736842105263, 0.05263157894736842, 0.7368421052631579, 0.07894736842105263, 0.7105263157894737, 0.7368421052631579, 0.7894736842105263, 0.10526315789473684, 0.7894736842105263, 0.10526315789473684, 0.07894736842105263, 0.10526315789473684, 0.10526315789473684, 0.10526315789473684, 0.07894736842105263, 0.7894736842105263, 0.10526315789473684, 0.7894736842105263, 0.10526315789473684, 0.10526315789473684, 0.13157894736842105, 0.7368421052631579, 0.05263157894736842, 0.7368421052631579, 0.7631578947368421, 0.10526315789473684, 0.7631578947368421, 0.13157894736842105, 0.7631578947368421, 0.7631578947368421, 0.7368421052631579, 0.7894736842105263, 0.07894736842105263, 0.7631578947368421, 0.10526315789473684, 0.7631578947368421, 0.10526315789473684, 0.7631578947368421, 0.10526315789473684, 0.7631578947368421, 0.10526315789473684, 0.7631578947368421, 0.7631578947368421, 0.07894736842105263, 0.7368421052631579, 0.07894736842105263, 0.07894736842105263, 0.05263157894736842, 0.07894736842105263, 0.07894736842105263, 0.07894736842105263, 0.07894736842105263]\n",
            "    Bottleneck = flatten_1. TCAV Score = 0.20 (+- 0.27), random was 0.41 (+- 0.33). p-val = 0.057 (not significant)\n",
            "random_i_ups[bottleneck]:  [0.7368421052631579, 0.7368421052631579, 0.7105263157894737, 0.7368421052631579, 0.7105263157894737, 0.7368421052631579, 0.7368421052631579, 0.7368421052631579, 0.7631578947368421, 0.10526315789473684, 0.13157894736842105, 0.07894736842105263, 0.07894736842105263, 0.07894736842105263, 0.05263157894736842, 0.07894736842105263, 0.05263157894736842, 0.7894736842105263, 0.10526315789473684, 0.7894736842105263, 0.10526315789473684, 0.07894736842105263, 0.7368421052631579, 0.7368421052631579, 0.07894736842105263, 0.7368421052631579, 0.7631578947368421, 0.13157894736842105, 0.7894736842105263, 0.7368421052631579, 0.7368421052631579, 0.7368421052631579, 0.7894736842105263, 0.07894736842105263, 0.7368421052631579, 0.7631578947368421, 0.10526315789473684, 0.7631578947368421, 0.7631578947368421, 0.7631578947368421, 0.7631578947368421, 0.7894736842105263, 0.07894736842105263, 0.7105263157894737, 0.7631578947368421, 0.10526315789473684, 0.7631578947368421, 0.13157894736842105, 0.10526315789473684, 0.07894736842105263, 0.10526315789473684, 0.10526315789473684, 0.07894736842105263, 0.7631578947368421, 0.10526315789473684, 0.7631578947368421, 0.10526315789473684, 0.10526315789473684, 0.7368421052631579, 0.7368421052631579, 0.05263157894736842, 0.7105263157894737, 0.7631578947368421, 0.10526315789473684, 0.7894736842105263, 0.10526315789473684, 0.10526315789473684, 0.7368421052631579, 0.7105263157894737, 0.7631578947368421, 0.7368421052631579, 0.7631578947368421, 0.10526315789473684, 0.7631578947368421, 0.10526315789473684, 0.10526315789473684, 0.10526315789473684, 0.7631578947368421, 0.10526315789473684, 0.10526315789473684, 0.7631578947368421, 0.05263157894736842, 0.7105263157894737, 0.05263157894736842, 0.07894736842105263, 0.07894736842105263, 0.7368421052631579, 0.07894736842105263, 0.07894736842105263, 0.07894736842105263]\n",
            "    Bottleneck = dense_1. TCAV Score = 0.33 (+- 0.33), random was 0.44 (+- 0.33). p-val = 0.352 (not significant)\n",
            "random_i_ups[bottleneck]:  [0.9210526315789473, 0.7368421052631579, 0.7105263157894737, 0.6578947368421053, 0.8421052631578947, 0.23684210526315788, 0.7368421052631579, 0.21052631578947367, 0.05263157894736842, 0.10526315789473684, 0.7894736842105263, 0.8421052631578947, 0.7105263157894737, 0.7631578947368421, 0.05263157894736842, 0.07894736842105263, 0.15789473684210525, 0.10526315789473684, 0.2631578947368421, 0.23684210526315788, 0.21052631578947367, 0.8157894736842105, 0.8947368421052632, 0.13157894736842105, 0.07894736842105263, 0.23684210526315788, 0.10526315789473684, 0.7894736842105263, 0.9473684210526315, 0.7631578947368421, 0.9210526315789473, 0.2894736842105263, 0.07894736842105263, 0.3157894736842105, 0.2631578947368421, 0.2631578947368421, 0.2631578947368421, 0.9473684210526315, 0.9473684210526315, 0.9473684210526315, 0.3157894736842105, 0.7894736842105263, 0.10526315789473684, 0.7894736842105263, 0.3157894736842105, 0.13157894736842105, 0.05263157894736842, 0.7631578947368421, 0.7105263157894737, 0.8421052631578947, 0.6578947368421053, 0.10526315789473684, 0.10526315789473684, 0.2631578947368421, 0.2631578947368421, 0.21052631578947367, 0.7368421052631579, 0.7368421052631579, 0.7368421052631579, 0.9473684210526315, 0.07894736842105263, 0.9473684210526315, 0.23684210526315788, 0.7105263157894737, 0.8947368421052632, 0.868421052631579, 0.8947368421052632, 0.21052631578947367, 0.8947368421052632, 0.9473684210526315, 0.7368421052631579, 0.7631578947368421, 0.07894736842105263, 0.21052631578947367, 0.9736842105263158, 0.7105263157894737, 0.8157894736842105, 0.7368421052631579, 0.05263157894736842, 0.15789473684210525, 0.07894736842105263, 0.2631578947368421, 0.7105263157894737, 0.7368421052631579, 0.868421052631579, 0.7368421052631579, 0.9473684210526315, 0.7631578947368421, 0.07894736842105263, 0.868421052631579]\n",
            "    Bottleneck = dense_3. TCAV Score = 0.26 (+- 0.01), random was 0.52 (+- 0.33). p-val = 0.014 (significant)\n",
            "  Concept = red_texture\n",
            "random_i_ups[bottleneck]:  [0.7368421052631579, 0.07894736842105263, 0.7105263157894737, 0.7368421052631579, 0.7368421052631579, 0.7368421052631579, 0.05263157894736842, 0.7368421052631579, 0.7631578947368421, 0.13157894736842105, 0.10526315789473684, 0.07894736842105263, 0.7631578947368421, 0.07894736842105263, 0.07894736842105263, 0.05263157894736842, 0.07894736842105263, 0.7631578947368421, 0.07894736842105263, 0.7368421052631579, 0.7105263157894737, 0.7368421052631579, 0.7631578947368421, 0.07894736842105263, 0.7368421052631579, 0.7368421052631579, 0.10526315789473684, 0.7631578947368421, 0.7894736842105263, 0.10526315789473684, 0.7894736842105263, 0.7368421052631579, 0.07894736842105263, 0.7894736842105263, 0.07894736842105263, 0.7631578947368421, 0.10526315789473684, 0.7368421052631579, 0.07894736842105263, 0.05263157894736842, 0.7368421052631579, 0.07894736842105263, 0.7105263157894737, 0.7368421052631579, 0.7894736842105263, 0.10526315789473684, 0.7894736842105263, 0.10526315789473684, 0.07894736842105263, 0.10526315789473684, 0.10526315789473684, 0.10526315789473684, 0.07894736842105263, 0.7894736842105263, 0.10526315789473684, 0.7894736842105263, 0.10526315789473684, 0.10526315789473684, 0.13157894736842105, 0.7368421052631579, 0.05263157894736842, 0.7368421052631579, 0.7631578947368421, 0.10526315789473684, 0.7631578947368421, 0.13157894736842105, 0.7631578947368421, 0.7631578947368421, 0.7368421052631579, 0.7894736842105263, 0.07894736842105263, 0.7631578947368421, 0.10526315789473684, 0.7631578947368421, 0.10526315789473684, 0.7631578947368421, 0.10526315789473684, 0.7631578947368421, 0.10526315789473684, 0.7631578947368421, 0.7631578947368421, 0.07894736842105263, 0.7368421052631579, 0.07894736842105263, 0.07894736842105263, 0.05263157894736842, 0.07894736842105263, 0.07894736842105263, 0.07894736842105263, 0.07894736842105263]\n",
            "    Bottleneck = flatten_1. TCAV Score = 0.54 (+- 0.30), random was 0.41 (+- 0.33). p-val = 0.253 (not significant)\n",
            "random_i_ups[bottleneck]:  [0.7368421052631579, 0.7368421052631579, 0.7105263157894737, 0.7368421052631579, 0.7105263157894737, 0.7368421052631579, 0.7368421052631579, 0.7368421052631579, 0.7631578947368421, 0.10526315789473684, 0.13157894736842105, 0.07894736842105263, 0.07894736842105263, 0.07894736842105263, 0.05263157894736842, 0.07894736842105263, 0.05263157894736842, 0.7894736842105263, 0.10526315789473684, 0.7894736842105263, 0.10526315789473684, 0.07894736842105263, 0.7368421052631579, 0.7368421052631579, 0.07894736842105263, 0.7368421052631579, 0.7631578947368421, 0.13157894736842105, 0.7894736842105263, 0.7368421052631579, 0.7368421052631579, 0.7368421052631579, 0.7894736842105263, 0.07894736842105263, 0.7368421052631579, 0.7631578947368421, 0.10526315789473684, 0.7631578947368421, 0.7631578947368421, 0.7631578947368421, 0.7631578947368421, 0.7894736842105263, 0.07894736842105263, 0.7105263157894737, 0.7631578947368421, 0.10526315789473684, 0.7631578947368421, 0.13157894736842105, 0.10526315789473684, 0.07894736842105263, 0.10526315789473684, 0.10526315789473684, 0.07894736842105263, 0.7631578947368421, 0.10526315789473684, 0.7631578947368421, 0.10526315789473684, 0.10526315789473684, 0.7368421052631579, 0.7368421052631579, 0.05263157894736842, 0.7105263157894737, 0.7631578947368421, 0.10526315789473684, 0.7894736842105263, 0.10526315789473684, 0.10526315789473684, 0.7368421052631579, 0.7105263157894737, 0.7631578947368421, 0.7368421052631579, 0.7631578947368421, 0.10526315789473684, 0.7631578947368421, 0.10526315789473684, 0.10526315789473684, 0.10526315789473684, 0.7631578947368421, 0.10526315789473684, 0.10526315789473684, 0.7631578947368421, 0.05263157894736842, 0.7105263157894737, 0.05263157894736842, 0.07894736842105263, 0.07894736842105263, 0.7368421052631579, 0.07894736842105263, 0.07894736842105263, 0.07894736842105263]\n",
            "    Bottleneck = dense_1. TCAV Score = 0.74 (+- 0.01), random was 0.44 (+- 0.33). p-val = 0.005 (significant)\n",
            "random_i_ups[bottleneck]:  [0.9210526315789473, 0.7368421052631579, 0.7105263157894737, 0.6578947368421053, 0.8421052631578947, 0.23684210526315788, 0.7368421052631579, 0.21052631578947367, 0.05263157894736842, 0.10526315789473684, 0.7894736842105263, 0.8421052631578947, 0.7105263157894737, 0.7631578947368421, 0.05263157894736842, 0.07894736842105263, 0.15789473684210525, 0.10526315789473684, 0.2631578947368421, 0.23684210526315788, 0.21052631578947367, 0.8157894736842105, 0.8947368421052632, 0.13157894736842105, 0.07894736842105263, 0.23684210526315788, 0.10526315789473684, 0.7894736842105263, 0.9473684210526315, 0.7631578947368421, 0.9210526315789473, 0.2894736842105263, 0.07894736842105263, 0.3157894736842105, 0.2631578947368421, 0.2631578947368421, 0.2631578947368421, 0.9473684210526315, 0.9473684210526315, 0.9473684210526315, 0.3157894736842105, 0.7894736842105263, 0.10526315789473684, 0.7894736842105263, 0.3157894736842105, 0.13157894736842105, 0.05263157894736842, 0.7631578947368421, 0.7105263157894737, 0.8421052631578947, 0.6578947368421053, 0.10526315789473684, 0.10526315789473684, 0.2631578947368421, 0.2631578947368421, 0.21052631578947367, 0.7368421052631579, 0.7368421052631579, 0.7368421052631579, 0.9473684210526315, 0.07894736842105263, 0.9473684210526315, 0.23684210526315788, 0.7105263157894737, 0.8947368421052632, 0.868421052631579, 0.8947368421052632, 0.21052631578947367, 0.8947368421052632, 0.9473684210526315, 0.7368421052631579, 0.7631578947368421, 0.07894736842105263, 0.21052631578947367, 0.9736842105263158, 0.7105263157894737, 0.8157894736842105, 0.7368421052631579, 0.05263157894736842, 0.15789473684210525, 0.07894736842105263, 0.2631578947368421, 0.7105263157894737, 0.7368421052631579, 0.868421052631579, 0.7368421052631579, 0.9473684210526315, 0.7631578947368421, 0.07894736842105263, 0.868421052631579]\n",
            "    Bottleneck = dense_3. TCAV Score = 0.66 (+- 0.33), random was 0.52 (+- 0.33). p-val = 0.227 (not significant)\n",
            "  Concept = green_texture\n",
            "random_i_ups[bottleneck]:  [0.7368421052631579, 0.07894736842105263, 0.7105263157894737, 0.7368421052631579, 0.7368421052631579, 0.7368421052631579, 0.05263157894736842, 0.7368421052631579, 0.7631578947368421, 0.13157894736842105, 0.10526315789473684, 0.07894736842105263, 0.7631578947368421, 0.07894736842105263, 0.07894736842105263, 0.05263157894736842, 0.07894736842105263, 0.7631578947368421, 0.07894736842105263, 0.7368421052631579, 0.7105263157894737, 0.7368421052631579, 0.7631578947368421, 0.07894736842105263, 0.7368421052631579, 0.7368421052631579, 0.10526315789473684, 0.7631578947368421, 0.7894736842105263, 0.10526315789473684, 0.7894736842105263, 0.7368421052631579, 0.07894736842105263, 0.7894736842105263, 0.07894736842105263, 0.7631578947368421, 0.10526315789473684, 0.7368421052631579, 0.07894736842105263, 0.05263157894736842, 0.7368421052631579, 0.07894736842105263, 0.7105263157894737, 0.7368421052631579, 0.7894736842105263, 0.10526315789473684, 0.7894736842105263, 0.10526315789473684, 0.07894736842105263, 0.10526315789473684, 0.10526315789473684, 0.10526315789473684, 0.07894736842105263, 0.7894736842105263, 0.10526315789473684, 0.7894736842105263, 0.10526315789473684, 0.10526315789473684, 0.13157894736842105, 0.7368421052631579, 0.05263157894736842, 0.7368421052631579, 0.7631578947368421, 0.10526315789473684, 0.7631578947368421, 0.13157894736842105, 0.7631578947368421, 0.7631578947368421, 0.7368421052631579, 0.7894736842105263, 0.07894736842105263, 0.7631578947368421, 0.10526315789473684, 0.7631578947368421, 0.10526315789473684, 0.7631578947368421, 0.10526315789473684, 0.7631578947368421, 0.10526315789473684, 0.7631578947368421, 0.7631578947368421, 0.07894736842105263, 0.7368421052631579, 0.07894736842105263, 0.07894736842105263, 0.05263157894736842, 0.07894736842105263, 0.07894736842105263, 0.07894736842105263, 0.07894736842105263]\n",
            "    Bottleneck = flatten_1. TCAV Score = 0.63 (+- 0.27), random was 0.41 (+- 0.33). p-val = 0.057 (not significant)\n",
            "random_i_ups[bottleneck]:  [0.7368421052631579, 0.7368421052631579, 0.7105263157894737, 0.7368421052631579, 0.7105263157894737, 0.7368421052631579, 0.7368421052631579, 0.7368421052631579, 0.7631578947368421, 0.10526315789473684, 0.13157894736842105, 0.07894736842105263, 0.07894736842105263, 0.07894736842105263, 0.05263157894736842, 0.07894736842105263, 0.05263157894736842, 0.7894736842105263, 0.10526315789473684, 0.7894736842105263, 0.10526315789473684, 0.07894736842105263, 0.7368421052631579, 0.7368421052631579, 0.07894736842105263, 0.7368421052631579, 0.7631578947368421, 0.13157894736842105, 0.7894736842105263, 0.7368421052631579, 0.7368421052631579, 0.7368421052631579, 0.7894736842105263, 0.07894736842105263, 0.7368421052631579, 0.7631578947368421, 0.10526315789473684, 0.7631578947368421, 0.7631578947368421, 0.7631578947368421, 0.7631578947368421, 0.7894736842105263, 0.07894736842105263, 0.7105263157894737, 0.7631578947368421, 0.10526315789473684, 0.7631578947368421, 0.13157894736842105, 0.10526315789473684, 0.07894736842105263, 0.10526315789473684, 0.10526315789473684, 0.07894736842105263, 0.7631578947368421, 0.10526315789473684, 0.7631578947368421, 0.10526315789473684, 0.10526315789473684, 0.7368421052631579, 0.7368421052631579, 0.05263157894736842, 0.7105263157894737, 0.7631578947368421, 0.10526315789473684, 0.7894736842105263, 0.10526315789473684, 0.10526315789473684, 0.7368421052631579, 0.7105263157894737, 0.7631578947368421, 0.7368421052631579, 0.7631578947368421, 0.10526315789473684, 0.7631578947368421, 0.10526315789473684, 0.10526315789473684, 0.10526315789473684, 0.7631578947368421, 0.10526315789473684, 0.10526315789473684, 0.7631578947368421, 0.05263157894736842, 0.7105263157894737, 0.05263157894736842, 0.07894736842105263, 0.07894736842105263, 0.7368421052631579, 0.07894736842105263, 0.07894736842105263, 0.07894736842105263]\n",
            "    Bottleneck = dense_1. TCAV Score = 0.75 (+- 0.02), random was 0.44 (+- 0.33). p-val = 0.004 (significant)\n",
            "random_i_ups[bottleneck]:  [0.9210526315789473, 0.7368421052631579, 0.7105263157894737, 0.6578947368421053, 0.8421052631578947, 0.23684210526315788, 0.7368421052631579, 0.21052631578947367, 0.05263157894736842, 0.10526315789473684, 0.7894736842105263, 0.8421052631578947, 0.7105263157894737, 0.7631578947368421, 0.05263157894736842, 0.07894736842105263, 0.15789473684210525, 0.10526315789473684, 0.2631578947368421, 0.23684210526315788, 0.21052631578947367, 0.8157894736842105, 0.8947368421052632, 0.13157894736842105, 0.07894736842105263, 0.23684210526315788, 0.10526315789473684, 0.7894736842105263, 0.9473684210526315, 0.7631578947368421, 0.9210526315789473, 0.2894736842105263, 0.07894736842105263, 0.3157894736842105, 0.2631578947368421, 0.2631578947368421, 0.2631578947368421, 0.9473684210526315, 0.9473684210526315, 0.9473684210526315, 0.3157894736842105, 0.7894736842105263, 0.10526315789473684, 0.7894736842105263, 0.3157894736842105, 0.13157894736842105, 0.05263157894736842, 0.7631578947368421, 0.7105263157894737, 0.8421052631578947, 0.6578947368421053, 0.10526315789473684, 0.10526315789473684, 0.2631578947368421, 0.2631578947368421, 0.21052631578947367, 0.7368421052631579, 0.7368421052631579, 0.7368421052631579, 0.9473684210526315, 0.07894736842105263, 0.9473684210526315, 0.23684210526315788, 0.7105263157894737, 0.8947368421052632, 0.868421052631579, 0.8947368421052632, 0.21052631578947367, 0.8947368421052632, 0.9473684210526315, 0.7368421052631579, 0.7631578947368421, 0.07894736842105263, 0.21052631578947367, 0.9736842105263158, 0.7105263157894737, 0.8157894736842105, 0.7368421052631579, 0.05263157894736842, 0.15789473684210525, 0.07894736842105263, 0.2631578947368421, 0.7105263157894737, 0.7368421052631579, 0.868421052631579, 0.7368421052631579, 0.9473684210526315, 0.7631578947368421, 0.07894736842105263, 0.868421052631579]\n",
            "    Bottleneck = dense_3. TCAV Score = 0.41 (+- 0.28), random was 0.52 (+- 0.33). p-val = 0.314 (not significant)\n",
            "  Concept = RNFLprob\n",
            "random_i_ups[bottleneck]:  [0.7368421052631579, 0.07894736842105263, 0.7105263157894737, 0.7368421052631579, 0.7368421052631579, 0.7368421052631579, 0.05263157894736842, 0.7368421052631579, 0.7631578947368421, 0.13157894736842105, 0.10526315789473684, 0.07894736842105263, 0.7631578947368421, 0.07894736842105263, 0.07894736842105263, 0.05263157894736842, 0.07894736842105263, 0.7631578947368421, 0.07894736842105263, 0.7368421052631579, 0.7105263157894737, 0.7368421052631579, 0.7631578947368421, 0.07894736842105263, 0.7368421052631579, 0.7368421052631579, 0.10526315789473684, 0.7631578947368421, 0.7894736842105263, 0.10526315789473684, 0.7894736842105263, 0.7368421052631579, 0.07894736842105263, 0.7894736842105263, 0.07894736842105263, 0.7631578947368421, 0.10526315789473684, 0.7368421052631579, 0.07894736842105263, 0.05263157894736842, 0.7368421052631579, 0.07894736842105263, 0.7105263157894737, 0.7368421052631579, 0.7894736842105263, 0.10526315789473684, 0.7894736842105263, 0.10526315789473684, 0.07894736842105263, 0.10526315789473684, 0.10526315789473684, 0.10526315789473684, 0.07894736842105263, 0.7894736842105263, 0.10526315789473684, 0.7894736842105263, 0.10526315789473684, 0.10526315789473684, 0.13157894736842105, 0.7368421052631579, 0.05263157894736842, 0.7368421052631579, 0.7631578947368421, 0.10526315789473684, 0.7631578947368421, 0.13157894736842105, 0.7631578947368421, 0.7631578947368421, 0.7368421052631579, 0.7894736842105263, 0.07894736842105263, 0.7631578947368421, 0.10526315789473684, 0.7631578947368421, 0.10526315789473684, 0.7631578947368421, 0.10526315789473684, 0.7631578947368421, 0.10526315789473684, 0.7631578947368421, 0.7631578947368421, 0.07894736842105263, 0.7368421052631579, 0.07894736842105263, 0.07894736842105263, 0.05263157894736842, 0.07894736842105263, 0.07894736842105263, 0.07894736842105263, 0.07894736842105263]\n",
            "    Bottleneck = flatten_1. TCAV Score = 0.67 (+- 0.20), random was 0.41 (+- 0.33). p-val = 0.023 (significant)\n",
            "random_i_ups[bottleneck]:  [0.7368421052631579, 0.7368421052631579, 0.7105263157894737, 0.7368421052631579, 0.7105263157894737, 0.7368421052631579, 0.7368421052631579, 0.7368421052631579, 0.7631578947368421, 0.10526315789473684, 0.13157894736842105, 0.07894736842105263, 0.07894736842105263, 0.07894736842105263, 0.05263157894736842, 0.07894736842105263, 0.05263157894736842, 0.7894736842105263, 0.10526315789473684, 0.7894736842105263, 0.10526315789473684, 0.07894736842105263, 0.7368421052631579, 0.7368421052631579, 0.07894736842105263, 0.7368421052631579, 0.7631578947368421, 0.13157894736842105, 0.7894736842105263, 0.7368421052631579, 0.7368421052631579, 0.7368421052631579, 0.7894736842105263, 0.07894736842105263, 0.7368421052631579, 0.7631578947368421, 0.10526315789473684, 0.7631578947368421, 0.7631578947368421, 0.7631578947368421, 0.7631578947368421, 0.7894736842105263, 0.07894736842105263, 0.7105263157894737, 0.7631578947368421, 0.10526315789473684, 0.7631578947368421, 0.13157894736842105, 0.10526315789473684, 0.07894736842105263, 0.10526315789473684, 0.10526315789473684, 0.07894736842105263, 0.7631578947368421, 0.10526315789473684, 0.7631578947368421, 0.10526315789473684, 0.10526315789473684, 0.7368421052631579, 0.7368421052631579, 0.05263157894736842, 0.7105263157894737, 0.7631578947368421, 0.10526315789473684, 0.7894736842105263, 0.10526315789473684, 0.10526315789473684, 0.7368421052631579, 0.7105263157894737, 0.7631578947368421, 0.7368421052631579, 0.7631578947368421, 0.10526315789473684, 0.7631578947368421, 0.10526315789473684, 0.10526315789473684, 0.10526315789473684, 0.7631578947368421, 0.10526315789473684, 0.10526315789473684, 0.7631578947368421, 0.05263157894736842, 0.7105263157894737, 0.05263157894736842, 0.07894736842105263, 0.07894736842105263, 0.7368421052631579, 0.07894736842105263, 0.07894736842105263, 0.07894736842105263]\n",
            "    Bottleneck = dense_1. TCAV Score = 0.67 (+- 0.20), random was 0.44 (+- 0.33). p-val = 0.034 (significant)\n",
            "random_i_ups[bottleneck]:  [0.9210526315789473, 0.7368421052631579, 0.7105263157894737, 0.6578947368421053, 0.8421052631578947, 0.23684210526315788, 0.7368421052631579, 0.21052631578947367, 0.05263157894736842, 0.10526315789473684, 0.7894736842105263, 0.8421052631578947, 0.7105263157894737, 0.7631578947368421, 0.05263157894736842, 0.07894736842105263, 0.15789473684210525, 0.10526315789473684, 0.2631578947368421, 0.23684210526315788, 0.21052631578947367, 0.8157894736842105, 0.8947368421052632, 0.13157894736842105, 0.07894736842105263, 0.23684210526315788, 0.10526315789473684, 0.7894736842105263, 0.9473684210526315, 0.7631578947368421, 0.9210526315789473, 0.2894736842105263, 0.07894736842105263, 0.3157894736842105, 0.2631578947368421, 0.2631578947368421, 0.2631578947368421, 0.9473684210526315, 0.9473684210526315, 0.9473684210526315, 0.3157894736842105, 0.7894736842105263, 0.10526315789473684, 0.7894736842105263, 0.3157894736842105, 0.13157894736842105, 0.05263157894736842, 0.7631578947368421, 0.7105263157894737, 0.8421052631578947, 0.6578947368421053, 0.10526315789473684, 0.10526315789473684, 0.2631578947368421, 0.2631578947368421, 0.21052631578947367, 0.7368421052631579, 0.7368421052631579, 0.7368421052631579, 0.9473684210526315, 0.07894736842105263, 0.9473684210526315, 0.23684210526315788, 0.7105263157894737, 0.8947368421052632, 0.868421052631579, 0.8947368421052632, 0.21052631578947367, 0.8947368421052632, 0.9473684210526315, 0.7368421052631579, 0.7631578947368421, 0.07894736842105263, 0.21052631578947367, 0.9736842105263158, 0.7105263157894737, 0.8157894736842105, 0.7368421052631579, 0.05263157894736842, 0.15789473684210525, 0.07894736842105263, 0.2631578947368421, 0.7105263157894737, 0.7368421052631579, 0.868421052631579, 0.7368421052631579, 0.9473684210526315, 0.7631578947368421, 0.07894736842105263, 0.868421052631579]\n",
            "    Bottleneck = dense_3. TCAV Score = 0.36 (+- 0.27), random was 0.52 (+- 0.33). p-val = 0.133 (not significant)\n",
            "{'flatten_1': {'bn_vals': [0.01, 0.01, 0.01, 0.6657894736842105], 'bn_stds': [0, 0, 0, 0.20453650054550573], 'significant': [False, False, False, True]}, 'dense_1': {'bn_vals': [0.01, 0.7394736842105263, 0.75, 0.6657894736842105], 'bn_stds': [0, 0.007894736842105288, 0.02121646775868042, 0.20453650054550573], 'significant': [False, True, True, True]}, 'dense_3': {'bn_vals': [0.2552631578947368, 0.01, 0.01, 0.01], 'bn_stds': [0.012059409723567999, 0, 0, 0], 'significant': [True, False, False, False]}}\n"
          ],
          "name": "stdout"
        },
        {
          "output_type": "display_data",
          "data": {
            "image/png": "[encoded data removed]",
            "text/plain": [
              "<Figure size 432x288 with 1 Axes>"
            ]
          },
          "metadata": {
            "tags": [],
            "needs_background": "light"
          }
        }
      ]
    },
    {
      "cell_type": "code",
      "metadata": {
        "colab_type": "code",
        "id": "qnfgwzu9-80s",
        "colab": {}
      },
      "source": [
        "started at ~1:50"
      ],
      "execution_count": null,
      "outputs": []
    }
  ]
}